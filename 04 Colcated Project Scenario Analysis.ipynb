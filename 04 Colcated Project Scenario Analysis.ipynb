{
 "cells": [
  {
   "cell_type": "code",
   "execution_count": 2,
   "id": "e6d510dc-8a33-408d-a759-645b438488e9",
   "metadata": {},
   "outputs": [],
   "source": [
    "import pypsa\n",
    "import pandas as pd\n",
    "import os\n",
    "import numpy as np\n",
    "import matplotlib.pyplot as plt\n",
    "from matplotlib.patches import Patch\n",
    "from matplotlib.ticker import FuncFormatter\n",
    "import matplotlib.ticker as mtick\n",
    "import matplotlib.cm as cm\n",
    "import numpy_financial as npf\n",
    "import networkx as nx\n",
    "from openpyxl import Workbook"
   ]
  },
  {
   "cell_type": "code",
   "execution_count": 3,
   "id": "b4df9b1d-798a-4925-b38c-749037ea3404",
   "metadata": {},
   "outputs": [
    {
     "name": "stderr",
     "output_type": "stream",
     "text": [
      "WARNING:pypsa.consistency:Encountered nan's in varying data 'p_set' for columns ['grid_demand'] of component 'Load'.\n",
      "WARNING:pypsa.consistency:Encountered nan's in varying data 'p_set' for columns ['grid_demand'] of component 'Load'.\n"
     ]
    },
    {
     "name": "stdout",
     "output_type": "stream",
     "text": [
      "Running scenario 1...\n"
     ]
    },
    {
     "name": "stderr",
     "output_type": "stream",
     "text": [
      "INFO:linopy.model: Solve problem using Gurobi solver\n"
     ]
    },
    {
     "name": "stdout",
     "output_type": "stream",
     "text": [
      "Set parameter Username\n"
     ]
    },
    {
     "name": "stderr",
     "output_type": "stream",
     "text": [
      "INFO:gurobipy:Set parameter Username\n"
     ]
    },
    {
     "name": "stdout",
     "output_type": "stream",
     "text": [
      "Academic license - for non-commercial use only - expires 2025-06-14\n"
     ]
    },
    {
     "name": "stderr",
     "output_type": "stream",
     "text": [
      "INFO:gurobipy:Academic license - for non-commercial use only - expires 2025-06-14\n",
      "INFO:linopy.io:Writing objective.\n",
      "Writing constraints.: 100%|\u001b[38;2;128;191;255m██████████\u001b[0m| 19/19 [00:00<00:00, 45.99it/s]\n",
      "Writing continuous variables.: 100%|\u001b[38;2;128;191;255m██████████\u001b[0m| 7/7 [00:00<00:00, 86.05it/s]\n",
      "INFO:linopy.io: Writing time: 0.54s\n"
     ]
    },
    {
     "name": "stdout",
     "output_type": "stream",
     "text": [
      "Read LP format model from file /private/var/folders/19/15zhn_ps157bgm3p882t881h0000gn/T/linopy-problem-k37m1t8o.lp\n"
     ]
    },
    {
     "name": "stderr",
     "output_type": "stream",
     "text": [
      "INFO:gurobipy:Read LP format model from file /private/var/folders/19/15zhn_ps157bgm3p882t881h0000gn/T/linopy-problem-k37m1t8o.lp\n"
     ]
    },
    {
     "name": "stdout",
     "output_type": "stream",
     "text": [
      "Reading time = 0.24 seconds\n"
     ]
    },
    {
     "name": "stderr",
     "output_type": "stream",
     "text": [
      "INFO:gurobipy:Reading time = 0.24 seconds\n"
     ]
    },
    {
     "name": "stdout",
     "output_type": "stream",
     "text": [
      "obj: 192196 rows, 78628 columns, 340708 nonzeros\n"
     ]
    },
    {
     "name": "stderr",
     "output_type": "stream",
     "text": [
      "INFO:gurobipy:obj: 192196 rows, 78628 columns, 340708 nonzeros\n"
     ]
    },
    {
     "name": "stdout",
     "output_type": "stream",
     "text": [
      "Gurobi Optimizer version 11.0.2 build v11.0.2rc0 (mac64[arm] - Darwin 23.5.0 23F79)\n"
     ]
    },
    {
     "name": "stderr",
     "output_type": "stream",
     "text": [
      "INFO:gurobipy:Gurobi Optimizer version 11.0.2 build v11.0.2rc0 (mac64[arm] - Darwin 23.5.0 23F79)\n"
     ]
    },
    {
     "name": "stdout",
     "output_type": "stream",
     "text": [
      "\n"
     ]
    },
    {
     "name": "stderr",
     "output_type": "stream",
     "text": [
      "INFO:gurobipy:\n"
     ]
    },
    {
     "name": "stdout",
     "output_type": "stream",
     "text": [
      "CPU model: Apple M2\n"
     ]
    },
    {
     "name": "stderr",
     "output_type": "stream",
     "text": [
      "INFO:gurobipy:CPU model: Apple M2\n"
     ]
    },
    {
     "name": "stdout",
     "output_type": "stream",
     "text": [
      "Thread count: 8 physical cores, 8 logical processors, using up to 8 threads\n"
     ]
    },
    {
     "name": "stderr",
     "output_type": "stream",
     "text": [
      "INFO:gurobipy:Thread count: 8 physical cores, 8 logical processors, using up to 8 threads\n"
     ]
    },
    {
     "name": "stdout",
     "output_type": "stream",
     "text": [
      "\n"
     ]
    },
    {
     "name": "stderr",
     "output_type": "stream",
     "text": [
      "INFO:gurobipy:\n"
     ]
    },
    {
     "name": "stdout",
     "output_type": "stream",
     "text": [
      "Optimize a model with 192196 rows, 78628 columns and 340708 nonzeros\n"
     ]
    },
    {
     "name": "stderr",
     "output_type": "stream",
     "text": [
      "INFO:gurobipy:Optimize a model with 192196 rows, 78628 columns and 340708 nonzeros\n"
     ]
    },
    {
     "name": "stdout",
     "output_type": "stream",
     "text": [
      "Model fingerprint: 0x5d3e0a48\n"
     ]
    },
    {
     "name": "stderr",
     "output_type": "stream",
     "text": [
      "INFO:gurobipy:Model fingerprint: 0x5d3e0a48\n"
     ]
    },
    {
     "name": "stdout",
     "output_type": "stream",
     "text": [
      "Coefficient statistics:\n"
     ]
    },
    {
     "name": "stderr",
     "output_type": "stream",
     "text": [
      "INFO:gurobipy:Coefficient statistics:\n"
     ]
    },
    {
     "name": "stdout",
     "output_type": "stream",
     "text": [
      "  Matrix range     [9e-01, 2e+00]\n"
     ]
    },
    {
     "name": "stderr",
     "output_type": "stream",
     "text": [
      "INFO:gurobipy:  Matrix range     [9e-01, 2e+00]\n"
     ]
    },
    {
     "name": "stdout",
     "output_type": "stream",
     "text": [
      "  Objective range  [1e-02, 2e+06]\n"
     ]
    },
    {
     "name": "stderr",
     "output_type": "stream",
     "text": [
      "INFO:gurobipy:  Objective range  [1e-02, 2e+06]\n"
     ]
    },
    {
     "name": "stdout",
     "output_type": "stream",
     "text": [
      "  Bounds range     [0e+00, 0e+00]\n"
     ]
    },
    {
     "name": "stderr",
     "output_type": "stream",
     "text": [
      "INFO:gurobipy:  Bounds range     [0e+00, 0e+00]\n"
     ]
    },
    {
     "name": "stdout",
     "output_type": "stream",
     "text": [
      "  RHS range        [1e-03, 9e+04]\n"
     ]
    },
    {
     "name": "stderr",
     "output_type": "stream",
     "text": [
      "INFO:gurobipy:  RHS range        [1e-03, 9e+04]\n"
     ]
    },
    {
     "name": "stdout",
     "output_type": "stream",
     "text": [
      "Presolve removed 113578 rows and 8742 columns\n"
     ]
    },
    {
     "name": "stderr",
     "output_type": "stream",
     "text": [
      "INFO:gurobipy:Presolve removed 113578 rows and 8742 columns\n"
     ]
    },
    {
     "name": "stdout",
     "output_type": "stream",
     "text": [
      "Presolve time: 0.20s\n"
     ]
    },
    {
     "name": "stderr",
     "output_type": "stream",
     "text": [
      "INFO:gurobipy:Presolve time: 0.20s\n"
     ]
    },
    {
     "name": "stdout",
     "output_type": "stream",
     "text": [
      "Presolved: 78618 rows, 69886 columns, 218394 nonzeros\n"
     ]
    },
    {
     "name": "stderr",
     "output_type": "stream",
     "text": [
      "INFO:gurobipy:Presolved: 78618 rows, 69886 columns, 218394 nonzeros\n"
     ]
    },
    {
     "name": "stdout",
     "output_type": "stream",
     "text": [
      "\n"
     ]
    },
    {
     "name": "stderr",
     "output_type": "stream",
     "text": [
      "INFO:gurobipy:\n"
     ]
    },
    {
     "name": "stdout",
     "output_type": "stream",
     "text": [
      "Concurrent LP optimizer: primal simplex, dual simplex, and barrier\n"
     ]
    },
    {
     "name": "stderr",
     "output_type": "stream",
     "text": [
      "INFO:gurobipy:Concurrent LP optimizer: primal simplex, dual simplex, and barrier\n"
     ]
    },
    {
     "name": "stdout",
     "output_type": "stream",
     "text": [
      "Showing barrier log only...\n"
     ]
    },
    {
     "name": "stderr",
     "output_type": "stream",
     "text": [
      "INFO:gurobipy:Showing barrier log only...\n"
     ]
    },
    {
     "name": "stdout",
     "output_type": "stream",
     "text": [
      "\n"
     ]
    },
    {
     "name": "stderr",
     "output_type": "stream",
     "text": [
      "INFO:gurobipy:\n"
     ]
    },
    {
     "name": "stdout",
     "output_type": "stream",
     "text": [
      "Ordering time: 0.12s\n"
     ]
    },
    {
     "name": "stderr",
     "output_type": "stream",
     "text": [
      "INFO:gurobipy:Ordering time: 0.12s\n"
     ]
    },
    {
     "name": "stdout",
     "output_type": "stream",
     "text": [
      "\n"
     ]
    },
    {
     "name": "stderr",
     "output_type": "stream",
     "text": [
      "INFO:gurobipy:\n"
     ]
    },
    {
     "name": "stdout",
     "output_type": "stream",
     "text": [
      "Barrier statistics:\n"
     ]
    },
    {
     "name": "stderr",
     "output_type": "stream",
     "text": [
      "INFO:gurobipy:Barrier statistics:\n"
     ]
    },
    {
     "name": "stdout",
     "output_type": "stream",
     "text": [
      " Dense cols : 4\n"
     ]
    },
    {
     "name": "stderr",
     "output_type": "stream",
     "text": [
      "INFO:gurobipy: Dense cols : 4\n"
     ]
    },
    {
     "name": "stdout",
     "output_type": "stream",
     "text": [
      " AA' NZ     : 1.572e+05\n"
     ]
    },
    {
     "name": "stderr",
     "output_type": "stream",
     "text": [
      "INFO:gurobipy: AA' NZ     : 1.572e+05\n"
     ]
    },
    {
     "name": "stdout",
     "output_type": "stream",
     "text": [
      " Factor NZ  : 8.648e+05 (roughly 70 MB of memory)\n"
     ]
    },
    {
     "name": "stderr",
     "output_type": "stream",
     "text": [
      "INFO:gurobipy: Factor NZ  : 8.648e+05 (roughly 70 MB of memory)\n"
     ]
    },
    {
     "name": "stdout",
     "output_type": "stream",
     "text": [
      " Factor Ops : 1.004e+07 (less than 1 second per iteration)\n"
     ]
    },
    {
     "name": "stderr",
     "output_type": "stream",
     "text": [
      "INFO:gurobipy: Factor Ops : 1.004e+07 (less than 1 second per iteration)\n"
     ]
    },
    {
     "name": "stdout",
     "output_type": "stream",
     "text": [
      " Threads    : 1\n"
     ]
    },
    {
     "name": "stderr",
     "output_type": "stream",
     "text": [
      "INFO:gurobipy: Threads    : 1\n"
     ]
    },
    {
     "name": "stdout",
     "output_type": "stream",
     "text": [
      "\n"
     ]
    },
    {
     "name": "stderr",
     "output_type": "stream",
     "text": [
      "INFO:gurobipy:\n"
     ]
    },
    {
     "name": "stdout",
     "output_type": "stream",
     "text": [
      "                  Objective                Residual\n"
     ]
    },
    {
     "name": "stderr",
     "output_type": "stream",
     "text": [
      "INFO:gurobipy:                  Objective                Residual\n"
     ]
    },
    {
     "name": "stdout",
     "output_type": "stream",
     "text": [
      "Iter       Primal          Dual         Primal    Dual     Compl     Time\n"
     ]
    },
    {
     "name": "stderr",
     "output_type": "stream",
     "text": [
      "INFO:gurobipy:Iter       Primal          Dual         Primal    Dual     Compl     Time\n"
     ]
    },
    {
     "name": "stdout",
     "output_type": "stream",
     "text": [
      "   0   3.37598742e+11 -2.83423486e+10  8.58e+04 3.87e+01  4.57e+08     1s\n"
     ]
    },
    {
     "name": "stderr",
     "output_type": "stream",
     "text": [
      "INFO:gurobipy:   0   3.37598742e+11 -2.83423486e+10  8.58e+04 3.87e+01  4.57e+08     1s\n"
     ]
    },
    {
     "name": "stdout",
     "output_type": "stream",
     "text": [
      "   1   4.23388239e+11 -2.16756392e+12  2.01e+04 1.34e+03  8.31e+07     1s\n"
     ]
    },
    {
     "name": "stderr",
     "output_type": "stream",
     "text": [
      "INFO:gurobipy:   1   4.23388239e+11 -2.16756392e+12  2.01e+04 1.34e+03  8.31e+07     1s\n"
     ]
    },
    {
     "name": "stdout",
     "output_type": "stream",
     "text": [
      "   2   3.97206667e+11 -7.30539334e+11  1.72e+03 3.23e+02  1.81e+07     1s\n"
     ]
    },
    {
     "name": "stderr",
     "output_type": "stream",
     "text": [
      "INFO:gurobipy:   2   3.97206667e+11 -7.30539334e+11  1.72e+03 3.23e+02  1.81e+07     1s\n"
     ]
    },
    {
     "name": "stdout",
     "output_type": "stream",
     "text": [
      "   3   2.58679049e+11  3.93713109e+10  2.51e+02 7.36e+00  1.89e+06     1s\n"
     ]
    },
    {
     "name": "stderr",
     "output_type": "stream",
     "text": [
      "INFO:gurobipy:   3   2.58679049e+11  3.93713109e+10  2.51e+02 7.36e+00  1.89e+06     1s\n"
     ]
    },
    {
     "name": "stdout",
     "output_type": "stream",
     "text": [
      "   4   2.02206089e+11  5.90910894e+10  1.43e+02 4.17e+00  1.12e+06     1s\n"
     ]
    },
    {
     "name": "stderr",
     "output_type": "stream",
     "text": [
      "INFO:gurobipy:   4   2.02206089e+11  5.90910894e+10  1.43e+02 4.17e+00  1.12e+06     1s\n"
     ]
    },
    {
     "name": "stdout",
     "output_type": "stream",
     "text": [
      "   5   1.95639430e+11  9.42796109e+10  1.28e+02 1.27e+00  7.34e+05     1s\n"
     ]
    },
    {
     "name": "stderr",
     "output_type": "stream",
     "text": [
      "INFO:gurobipy:   5   1.95639430e+11  9.42796109e+10  1.28e+02 1.27e+00  7.34e+05     1s\n"
     ]
    },
    {
     "name": "stdout",
     "output_type": "stream",
     "text": [
      "   6   1.91780908e+11  9.92587023e+10  1.19e+02 1.11e+00  6.64e+05     1s\n"
     ]
    },
    {
     "name": "stderr",
     "output_type": "stream",
     "text": [
      "INFO:gurobipy:   6   1.91780908e+11  9.92587023e+10  1.19e+02 1.11e+00  6.64e+05     1s\n"
     ]
    },
    {
     "name": "stdout",
     "output_type": "stream",
     "text": [
      "   7   1.86417765e+11  1.17700935e+11  1.03e+02 5.95e-01  4.85e+05     1s\n"
     ]
    },
    {
     "name": "stderr",
     "output_type": "stream",
     "text": [
      "INFO:gurobipy:   7   1.86417765e+11  1.17700935e+11  1.03e+02 5.95e-01  4.85e+05     1s\n"
     ]
    },
    {
     "name": "stdout",
     "output_type": "stream",
     "text": [
      "   8   1.60504493e+11  1.45444216e+11  1.09e+01 5.01e-07  9.37e+04     1s\n"
     ]
    },
    {
     "name": "stderr",
     "output_type": "stream",
     "text": [
      "INFO:gurobipy:   8   1.60504493e+11  1.45444216e+11  1.09e+01 5.01e-07  9.37e+04     1s\n"
     ]
    },
    {
     "name": "stdout",
     "output_type": "stream",
     "text": [
      "   9   1.56317143e+11  1.51936192e+11  2.28e+00 2.82e-07  2.67e+04     1s\n"
     ]
    },
    {
     "name": "stderr",
     "output_type": "stream",
     "text": [
      "INFO:gurobipy:   9   1.56317143e+11  1.51936192e+11  2.28e+00 2.82e-07  2.67e+04     1s\n"
     ]
    },
    {
     "name": "stdout",
     "output_type": "stream",
     "text": [
      "  10   1.54520020e+11  1.53074916e+11  5.23e-01 1.27e-06  8.77e+03     1s\n"
     ]
    },
    {
     "name": "stderr",
     "output_type": "stream",
     "text": [
      "INFO:gurobipy:  10   1.54520020e+11  1.53074916e+11  5.23e-01 1.27e-06  8.77e+03     1s\n"
     ]
    },
    {
     "name": "stdout",
     "output_type": "stream",
     "text": [
      "  11   1.54107986e+11  1.53517149e+11  2.06e-01 8.73e-07  3.58e+03     1s\n"
     ]
    },
    {
     "name": "stderr",
     "output_type": "stream",
     "text": [
      "INFO:gurobipy:  11   1.54107986e+11  1.53517149e+11  2.06e-01 8.73e-07  3.58e+03     1s\n"
     ]
    },
    {
     "name": "stdout",
     "output_type": "stream",
     "text": [
      "  12   1.54071394e+11  1.53658590e+11  1.77e-01 5.86e-07  2.50e+03     1s\n"
     ]
    },
    {
     "name": "stderr",
     "output_type": "stream",
     "text": [
      "INFO:gurobipy:  12   1.54071394e+11  1.53658590e+11  1.77e-01 5.86e-07  2.50e+03     1s\n"
     ]
    },
    {
     "name": "stdout",
     "output_type": "stream",
     "text": [
      "  13   1.54030281e+11  1.53705202e+11  1.46e-01 5.25e-07  1.97e+03     1s\n"
     ]
    },
    {
     "name": "stderr",
     "output_type": "stream",
     "text": [
      "INFO:gurobipy:  13   1.54030281e+11  1.53705202e+11  1.46e-01 5.25e-07  1.97e+03     1s\n"
     ]
    },
    {
     "name": "stdout",
     "output_type": "stream",
     "text": [
      "  14   1.54018541e+11  1.53723239e+11  1.37e-01 3.94e-07  1.79e+03     1s\n"
     ]
    },
    {
     "name": "stderr",
     "output_type": "stream",
     "text": [
      "INFO:gurobipy:  14   1.54018541e+11  1.53723239e+11  1.37e-01 3.94e-07  1.79e+03     1s\n"
     ]
    },
    {
     "name": "stdout",
     "output_type": "stream",
     "text": [
      "  15   1.53950652e+11  1.53761565e+11  8.56e-02 4.05e-07  1.14e+03     1s\n"
     ]
    },
    {
     "name": "stderr",
     "output_type": "stream",
     "text": [
      "INFO:gurobipy:  15   1.53950652e+11  1.53761565e+11  8.56e-02 4.05e-07  1.14e+03     1s\n"
     ]
    },
    {
     "name": "stdout",
     "output_type": "stream",
     "text": [
      "  16   1.53932447e+11  1.53794233e+11  7.24e-02 3.13e-07  8.36e+02     1s\n"
     ]
    },
    {
     "name": "stderr",
     "output_type": "stream",
     "text": [
      "INFO:gurobipy:  16   1.53932447e+11  1.53794233e+11  7.24e-02 3.13e-07  8.36e+02     1s\n"
     ]
    },
    {
     "name": "stdout",
     "output_type": "stream",
     "text": [
      "  17   1.53906536e+11  1.53805291e+11  5.18e-02 2.37e-07  6.12e+02     1s\n"
     ]
    },
    {
     "name": "stderr",
     "output_type": "stream",
     "text": [
      "INFO:gurobipy:  17   1.53906536e+11  1.53805291e+11  5.18e-02 2.37e-07  6.12e+02     1s\n"
     ]
    },
    {
     "name": "stdout",
     "output_type": "stream",
     "text": [
      "  18   1.53892420e+11  1.53814419e+11  4.13e-02 2.18e-07  4.72e+02     1s\n"
     ]
    },
    {
     "name": "stderr",
     "output_type": "stream",
     "text": [
      "INFO:gurobipy:  18   1.53892420e+11  1.53814419e+11  4.13e-02 2.18e-07  4.72e+02     1s\n"
     ]
    },
    {
     "name": "stdout",
     "output_type": "stream",
     "text": [
      "  19   1.53890226e+11  1.53821491e+11  3.94e-02 9.57e-08  4.16e+02     1s\n"
     ]
    },
    {
     "name": "stderr",
     "output_type": "stream",
     "text": [
      "INFO:gurobipy:  19   1.53890226e+11  1.53821491e+11  3.94e-02 9.57e-08  4.16e+02     1s\n"
     ]
    },
    {
     "name": "stdout",
     "output_type": "stream",
     "text": [
      "  20   1.53890618e+11  1.53830809e+11  3.82e-02 9.51e-08  3.62e+02     1s\n"
     ]
    },
    {
     "name": "stderr",
     "output_type": "stream",
     "text": [
      "INFO:gurobipy:  20   1.53890618e+11  1.53830809e+11  3.82e-02 9.51e-08  3.62e+02     1s\n"
     ]
    },
    {
     "name": "stdout",
     "output_type": "stream",
     "text": [
      "  21   1.53881997e+11  1.53842723e+11  2.19e-02 1.27e-07  2.37e+02     1s\n"
     ]
    },
    {
     "name": "stderr",
     "output_type": "stream",
     "text": [
      "INFO:gurobipy:  21   1.53881997e+11  1.53842723e+11  2.19e-02 1.27e-07  2.37e+02     1s\n"
     ]
    },
    {
     "name": "stdout",
     "output_type": "stream",
     "text": [
      "  22   1.53874711e+11  1.53857644e+11  7.10e-03 7.47e-08  1.03e+02     1s\n"
     ]
    },
    {
     "name": "stderr",
     "output_type": "stream",
     "text": [
      "INFO:gurobipy:  22   1.53874711e+11  1.53857644e+11  7.10e-03 7.47e-08  1.03e+02     1s\n"
     ]
    },
    {
     "name": "stdout",
     "output_type": "stream",
     "text": [
      "  23   1.53872791e+11  1.53867667e+11  3.65e-03 4.31e-09  3.10e+01     1s\n"
     ]
    },
    {
     "name": "stderr",
     "output_type": "stream",
     "text": [
      "INFO:gurobipy:  23   1.53872791e+11  1.53867667e+11  3.65e-03 4.31e-09  3.10e+01     1s\n"
     ]
    },
    {
     "name": "stdout",
     "output_type": "stream",
     "text": [
      "  24   1.53871577e+11  1.53869373e+11  1.68e-03 7.68e-09  1.33e+01     2s\n"
     ]
    },
    {
     "name": "stderr",
     "output_type": "stream",
     "text": [
      "INFO:gurobipy:  24   1.53871577e+11  1.53869373e+11  1.68e-03 7.68e-09  1.33e+01     2s\n"
     ]
    },
    {
     "name": "stdout",
     "output_type": "stream",
     "text": [
      "  25   1.53870964e+11  1.53869884e+11  7.39e-04 4.54e-09  6.52e+00     2s\n"
     ]
    },
    {
     "name": "stderr",
     "output_type": "stream",
     "text": [
      "INFO:gurobipy:  25   1.53870964e+11  1.53869884e+11  7.39e-04 4.54e-09  6.52e+00     2s\n"
     ]
    },
    {
     "name": "stdout",
     "output_type": "stream",
     "text": [
      "  26   1.53870814e+11  1.53870130e+11  5.14e-04 6.75e-09  4.13e+00     2s\n"
     ]
    },
    {
     "name": "stderr",
     "output_type": "stream",
     "text": [
      "INFO:gurobipy:  26   1.53870814e+11  1.53870130e+11  5.14e-04 6.75e-09  4.13e+00     2s\n"
     ]
    },
    {
     "name": "stdout",
     "output_type": "stream",
     "text": [
      "  27   1.53870606e+11  1.53870274e+11  2.17e-04 1.98e-09  2.01e+00     2s\n"
     ]
    },
    {
     "name": "stderr",
     "output_type": "stream",
     "text": [
      "INFO:gurobipy:  27   1.53870606e+11  1.53870274e+11  2.17e-04 1.98e-09  2.01e+00     2s\n"
     ]
    },
    {
     "name": "stdout",
     "output_type": "stream",
     "text": [
      "  28   1.53870502e+11  1.53870387e+11  7.23e-05 2.68e-09  6.94e-01     2s\n"
     ]
    },
    {
     "name": "stderr",
     "output_type": "stream",
     "text": [
      "INFO:gurobipy:  28   1.53870502e+11  1.53870387e+11  7.23e-05 2.68e-09  6.94e-01     2s\n"
     ]
    },
    {
     "name": "stdout",
     "output_type": "stream",
     "text": [
      "  29   1.53870470e+11  1.53870414e+11  3.45e-05 1.16e-10  3.41e-01     2s\n"
     ]
    },
    {
     "name": "stderr",
     "output_type": "stream",
     "text": [
      "INFO:gurobipy:  29   1.53870470e+11  1.53870414e+11  3.45e-05 1.16e-10  3.41e-01     2s\n"
     ]
    },
    {
     "name": "stdout",
     "output_type": "stream",
     "text": [
      "  30   1.53870460e+11  1.53870425e+11  1.98e-05 5.24e-09  2.12e-01     2s\n"
     ]
    },
    {
     "name": "stderr",
     "output_type": "stream",
     "text": [
      "INFO:gurobipy:  30   1.53870460e+11  1.53870425e+11  1.98e-05 5.24e-09  2.12e-01     2s\n"
     ]
    },
    {
     "name": "stdout",
     "output_type": "stream",
     "text": [
      "  31   1.53870450e+11  1.53870435e+11  7.83e-06 1.59e-09  9.57e-02     2s\n"
     ]
    },
    {
     "name": "stderr",
     "output_type": "stream",
     "text": [
      "INFO:gurobipy:  31   1.53870450e+11  1.53870435e+11  7.83e-06 1.59e-09  9.57e-02     2s\n"
     ]
    },
    {
     "name": "stdout",
     "output_type": "stream",
     "text": [
      "  32   1.53870448e+11  1.53870439e+11  4.69e-06 9.31e-10  5.06e-02     2s\n"
     ]
    },
    {
     "name": "stderr",
     "output_type": "stream",
     "text": [
      "INFO:gurobipy:  32   1.53870448e+11  1.53870439e+11  4.69e-06 9.31e-10  5.06e-02     2s\n"
     ]
    },
    {
     "name": "stdout",
     "output_type": "stream",
     "text": [
      "  33   1.53870445e+11  1.53870442e+11  5.60e-06 1.98e-09  1.91e-02     2s\n"
     ]
    },
    {
     "name": "stderr",
     "output_type": "stream",
     "text": [
      "INFO:gurobipy:  33   1.53870445e+11  1.53870442e+11  5.60e-06 1.98e-09  1.91e-02     2s\n"
     ]
    },
    {
     "name": "stdout",
     "output_type": "stream",
     "text": [
      "  34   1.53870444e+11  1.53870443e+11  4.46e-06 4.07e-09  6.44e-03     2s\n"
     ]
    },
    {
     "name": "stderr",
     "output_type": "stream",
     "text": [
      "INFO:gurobipy:  34   1.53870444e+11  1.53870443e+11  4.46e-06 4.07e-09  6.44e-03     2s\n"
     ]
    },
    {
     "name": "stdout",
     "output_type": "stream",
     "text": [
      "  35   1.53870444e+11  1.53870443e+11  2.13e-06 2.79e-09  2.98e-03     2s\n"
     ]
    },
    {
     "name": "stderr",
     "output_type": "stream",
     "text": [
      "INFO:gurobipy:  35   1.53870444e+11  1.53870443e+11  2.13e-06 2.79e-09  2.98e-03     2s\n"
     ]
    },
    {
     "name": "stdout",
     "output_type": "stream",
     "text": [
      "  36   1.53870443e+11  1.53870443e+11  8.65e-07 3.53e-11  1.15e-03     2s\n"
     ]
    },
    {
     "name": "stderr",
     "output_type": "stream",
     "text": [
      "INFO:gurobipy:  36   1.53870443e+11  1.53870443e+11  8.65e-07 3.53e-11  1.15e-03     2s\n"
     ]
    },
    {
     "name": "stdout",
     "output_type": "stream",
     "text": [
      "  37   1.53870443e+11  1.53870443e+11  6.41e-07 1.51e-09  1.82e-04     2s\n"
     ]
    },
    {
     "name": "stderr",
     "output_type": "stream",
     "text": [
      "INFO:gurobipy:  37   1.53870443e+11  1.53870443e+11  6.41e-07 1.51e-09  1.82e-04     2s\n"
     ]
    },
    {
     "name": "stdout",
     "output_type": "stream",
     "text": [
      "  38   1.53870443e+11  1.53870443e+11  5.05e-08 7.80e-09  4.95e-05     2s\n"
     ]
    },
    {
     "name": "stderr",
     "output_type": "stream",
     "text": [
      "INFO:gurobipy:  38   1.53870443e+11  1.53870443e+11  5.05e-08 7.80e-09  4.95e-05     2s\n"
     ]
    },
    {
     "name": "stdout",
     "output_type": "stream",
     "text": [
      "  39   1.53870443e+11  1.53870443e+11  4.67e-08 1.98e-08  1.66e-05     2s\n"
     ]
    },
    {
     "name": "stderr",
     "output_type": "stream",
     "text": [
      "INFO:gurobipy:  39   1.53870443e+11  1.53870443e+11  4.67e-08 1.98e-08  1.66e-05     2s\n"
     ]
    },
    {
     "name": "stdout",
     "output_type": "stream",
     "text": [
      "  40   1.53870443e+11  1.53870443e+11  1.26e-08 3.31e-08  2.79e-07     2s\n"
     ]
    },
    {
     "name": "stderr",
     "output_type": "stream",
     "text": [
      "INFO:gurobipy:  40   1.53870443e+11  1.53870443e+11  1.26e-08 3.31e-08  2.79e-07     2s\n"
     ]
    },
    {
     "name": "stdout",
     "output_type": "stream",
     "text": [
      "  41   1.53870443e+11  1.53870443e+11  8.09e-09 5.47e-08  4.03e-10     2s\n"
     ]
    },
    {
     "name": "stderr",
     "output_type": "stream",
     "text": [
      "INFO:gurobipy:  41   1.53870443e+11  1.53870443e+11  8.09e-09 5.47e-08  4.03e-10     2s\n"
     ]
    },
    {
     "name": "stdout",
     "output_type": "stream",
     "text": [
      "\n"
     ]
    },
    {
     "name": "stderr",
     "output_type": "stream",
     "text": [
      "INFO:gurobipy:\n"
     ]
    },
    {
     "name": "stdout",
     "output_type": "stream",
     "text": [
      "Barrier solved model in 41 iterations and 2.01 seconds (1.67 work units)\n"
     ]
    },
    {
     "name": "stderr",
     "output_type": "stream",
     "text": [
      "INFO:gurobipy:Barrier solved model in 41 iterations and 2.01 seconds (1.67 work units)\n"
     ]
    },
    {
     "name": "stdout",
     "output_type": "stream",
     "text": [
      "Optimal objective 1.53870443e+11\n"
     ]
    },
    {
     "name": "stderr",
     "output_type": "stream",
     "text": [
      "INFO:gurobipy:Optimal objective 1.53870443e+11\n"
     ]
    },
    {
     "name": "stdout",
     "output_type": "stream",
     "text": [
      "\n"
     ]
    },
    {
     "name": "stderr",
     "output_type": "stream",
     "text": [
      "INFO:gurobipy:\n"
     ]
    },
    {
     "name": "stdout",
     "output_type": "stream",
     "text": [
      "\n"
     ]
    },
    {
     "name": "stderr",
     "output_type": "stream",
     "text": [
      "INFO:gurobipy:\n"
     ]
    },
    {
     "name": "stdout",
     "output_type": "stream",
     "text": [
      "Solved with dual simplex\n"
     ]
    },
    {
     "name": "stderr",
     "output_type": "stream",
     "text": [
      "INFO:gurobipy:Solved with dual simplex\n"
     ]
    },
    {
     "name": "stdout",
     "output_type": "stream",
     "text": [
      "Iteration    Objective       Primal Inf.    Dual Inf.      Time\n"
     ]
    },
    {
     "name": "stderr",
     "output_type": "stream",
     "text": [
      "INFO:gurobipy:Iteration    Objective       Primal Inf.    Dual Inf.      Time\n"
     ]
    },
    {
     "name": "stdout",
     "output_type": "stream",
     "text": [
      "   49234    1.5387044e+11   0.000000e+00   0.000000e+00      2s\n"
     ]
    },
    {
     "name": "stderr",
     "output_type": "stream",
     "text": [
      "INFO:gurobipy:   49234    1.5387044e+11   0.000000e+00   0.000000e+00      2s\n"
     ]
    },
    {
     "name": "stdout",
     "output_type": "stream",
     "text": [
      "\n"
     ]
    },
    {
     "name": "stderr",
     "output_type": "stream",
     "text": [
      "INFO:gurobipy:\n"
     ]
    },
    {
     "name": "stdout",
     "output_type": "stream",
     "text": [
      "Solved in 49234 iterations and 2.07 seconds (1.99 work units)\n"
     ]
    },
    {
     "name": "stderr",
     "output_type": "stream",
     "text": [
      "INFO:gurobipy:Solved in 49234 iterations and 2.07 seconds (1.99 work units)\n"
     ]
    },
    {
     "name": "stdout",
     "output_type": "stream",
     "text": [
      "Optimal objective  1.538704434e+11\n"
     ]
    },
    {
     "name": "stderr",
     "output_type": "stream",
     "text": [
      "INFO:gurobipy:Optimal objective  1.538704434e+11\n",
      "INFO:linopy.constants: Optimization successful: \n",
      "Status: ok\n",
      "Termination condition: optimal\n",
      "Solution: 78628 primals, 192196 duals\n",
      "Objective: 1.54e+11\n",
      "Solver model: available\n",
      "Solver message: 2\n",
      "\n",
      "INFO:pypsa.optimization.optimize:The shadow-prices of the constraints Generator-fix-p-lower, Generator-fix-p-upper, Generator-ext-p-lower, Generator-ext-p-upper, Generator-p_set, Link-fix-p-lower, Link-fix-p-upper, StorageUnit-ext-p_dispatch-lower, StorageUnit-ext-p_dispatch-upper, StorageUnit-ext-p_store-lower, StorageUnit-ext-p_store-upper, StorageUnit-ext-state_of_charge-lower, StorageUnit-ext-state_of_charge-upper, StorageUnit-energy_balance were not assigned to the network.\n"
     ]
    },
    {
     "name": "stdout",
     "output_type": "stream",
     "text": [
      "Running scenario 2...\n"
     ]
    },
    {
     "name": "stderr",
     "output_type": "stream",
     "text": [
      "WARNING:pypsa.consistency:Encountered nan's in varying data 'p_set' for columns ['grid_demand'] of component 'Load'.\n",
      "WARNING:pypsa.consistency:Encountered nan's in varying data 'p_set' for columns ['grid_demand'] of component 'Load'.\n",
      "INFO:linopy.model: Solve problem using Gurobi solver\n"
     ]
    },
    {
     "name": "stdout",
     "output_type": "stream",
     "text": [
      "Set parameter Username\n"
     ]
    },
    {
     "name": "stderr",
     "output_type": "stream",
     "text": [
      "INFO:gurobipy:Set parameter Username\n"
     ]
    },
    {
     "name": "stdout",
     "output_type": "stream",
     "text": [
      "Academic license - for non-commercial use only - expires 2025-06-14\n"
     ]
    },
    {
     "name": "stderr",
     "output_type": "stream",
     "text": [
      "INFO:gurobipy:Academic license - for non-commercial use only - expires 2025-06-14\n",
      "INFO:linopy.io:Writing objective.\n",
      "Writing constraints.: 100%|\u001b[38;2;128;191;255m██████████\u001b[0m| 19/19 [00:00<00:00, 49.11it/s]\n",
      "Writing continuous variables.: 100%|\u001b[38;2;128;191;255m██████████\u001b[0m| 7/7 [00:00<00:00, 61.73it/s]\n",
      "INFO:linopy.io: Writing time: 0.53s\n"
     ]
    },
    {
     "name": "stdout",
     "output_type": "stream",
     "text": [
      "Read LP format model from file /private/var/folders/19/15zhn_ps157bgm3p882t881h0000gn/T/linopy-problem-z2_m64a7.lp\n"
     ]
    },
    {
     "name": "stderr",
     "output_type": "stream",
     "text": [
      "INFO:gurobipy:Read LP format model from file /private/var/folders/19/15zhn_ps157bgm3p882t881h0000gn/T/linopy-problem-z2_m64a7.lp\n"
     ]
    },
    {
     "name": "stdout",
     "output_type": "stream",
     "text": [
      "Reading time = 0.22 seconds\n"
     ]
    },
    {
     "name": "stderr",
     "output_type": "stream",
     "text": [
      "INFO:gurobipy:Reading time = 0.22 seconds\n"
     ]
    },
    {
     "name": "stdout",
     "output_type": "stream",
     "text": [
      "obj: 192196 rows, 78628 columns, 340708 nonzeros\n"
     ]
    },
    {
     "name": "stderr",
     "output_type": "stream",
     "text": [
      "INFO:gurobipy:obj: 192196 rows, 78628 columns, 340708 nonzeros\n"
     ]
    },
    {
     "name": "stdout",
     "output_type": "stream",
     "text": [
      "Gurobi Optimizer version 11.0.2 build v11.0.2rc0 (mac64[arm] - Darwin 23.5.0 23F79)\n"
     ]
    },
    {
     "name": "stderr",
     "output_type": "stream",
     "text": [
      "INFO:gurobipy:Gurobi Optimizer version 11.0.2 build v11.0.2rc0 (mac64[arm] - Darwin 23.5.0 23F79)\n"
     ]
    },
    {
     "name": "stdout",
     "output_type": "stream",
     "text": [
      "\n"
     ]
    },
    {
     "name": "stderr",
     "output_type": "stream",
     "text": [
      "INFO:gurobipy:\n"
     ]
    },
    {
     "name": "stdout",
     "output_type": "stream",
     "text": [
      "CPU model: Apple M2\n"
     ]
    },
    {
     "name": "stderr",
     "output_type": "stream",
     "text": [
      "INFO:gurobipy:CPU model: Apple M2\n"
     ]
    },
    {
     "name": "stdout",
     "output_type": "stream",
     "text": [
      "Thread count: 8 physical cores, 8 logical processors, using up to 8 threads\n"
     ]
    },
    {
     "name": "stderr",
     "output_type": "stream",
     "text": [
      "INFO:gurobipy:Thread count: 8 physical cores, 8 logical processors, using up to 8 threads\n"
     ]
    },
    {
     "name": "stdout",
     "output_type": "stream",
     "text": [
      "\n"
     ]
    },
    {
     "name": "stderr",
     "output_type": "stream",
     "text": [
      "INFO:gurobipy:\n"
     ]
    },
    {
     "name": "stdout",
     "output_type": "stream",
     "text": [
      "Optimize a model with 192196 rows, 78628 columns and 340708 nonzeros\n"
     ]
    },
    {
     "name": "stderr",
     "output_type": "stream",
     "text": [
      "INFO:gurobipy:Optimize a model with 192196 rows, 78628 columns and 340708 nonzeros\n"
     ]
    },
    {
     "name": "stdout",
     "output_type": "stream",
     "text": [
      "Model fingerprint: 0x5d50da31\n"
     ]
    },
    {
     "name": "stderr",
     "output_type": "stream",
     "text": [
      "INFO:gurobipy:Model fingerprint: 0x5d50da31\n"
     ]
    },
    {
     "name": "stdout",
     "output_type": "stream",
     "text": [
      "Coefficient statistics:\n"
     ]
    },
    {
     "name": "stderr",
     "output_type": "stream",
     "text": [
      "INFO:gurobipy:Coefficient statistics:\n"
     ]
    },
    {
     "name": "stdout",
     "output_type": "stream",
     "text": [
      "  Matrix range     [9e-01, 2e+00]\n"
     ]
    },
    {
     "name": "stderr",
     "output_type": "stream",
     "text": [
      "INFO:gurobipy:  Matrix range     [9e-01, 2e+00]\n"
     ]
    },
    {
     "name": "stdout",
     "output_type": "stream",
     "text": [
      "  Objective range  [1e-02, 2e+06]\n"
     ]
    },
    {
     "name": "stderr",
     "output_type": "stream",
     "text": [
      "INFO:gurobipy:  Objective range  [1e-02, 2e+06]\n"
     ]
    },
    {
     "name": "stdout",
     "output_type": "stream",
     "text": [
      "  Bounds range     [0e+00, 0e+00]\n"
     ]
    },
    {
     "name": "stderr",
     "output_type": "stream",
     "text": [
      "INFO:gurobipy:  Bounds range     [0e+00, 0e+00]\n"
     ]
    },
    {
     "name": "stdout",
     "output_type": "stream",
     "text": [
      "  RHS range        [1e-03, 9e+04]\n"
     ]
    },
    {
     "name": "stderr",
     "output_type": "stream",
     "text": [
      "INFO:gurobipy:  RHS range        [1e-03, 9e+04]\n"
     ]
    },
    {
     "name": "stdout",
     "output_type": "stream",
     "text": [
      "Presolve removed 113578 rows and 8742 columns\n"
     ]
    },
    {
     "name": "stderr",
     "output_type": "stream",
     "text": [
      "INFO:gurobipy:Presolve removed 113578 rows and 8742 columns\n"
     ]
    },
    {
     "name": "stdout",
     "output_type": "stream",
     "text": [
      "Presolve time: 0.12s\n"
     ]
    },
    {
     "name": "stderr",
     "output_type": "stream",
     "text": [
      "INFO:gurobipy:Presolve time: 0.12s\n"
     ]
    },
    {
     "name": "stdout",
     "output_type": "stream",
     "text": [
      "Presolved: 78618 rows, 69886 columns, 218394 nonzeros\n"
     ]
    },
    {
     "name": "stderr",
     "output_type": "stream",
     "text": [
      "INFO:gurobipy:Presolved: 78618 rows, 69886 columns, 218394 nonzeros\n"
     ]
    },
    {
     "name": "stdout",
     "output_type": "stream",
     "text": [
      "\n"
     ]
    },
    {
     "name": "stderr",
     "output_type": "stream",
     "text": [
      "INFO:gurobipy:\n"
     ]
    },
    {
     "name": "stdout",
     "output_type": "stream",
     "text": [
      "Concurrent LP optimizer: primal simplex, dual simplex, and barrier\n"
     ]
    },
    {
     "name": "stderr",
     "output_type": "stream",
     "text": [
      "INFO:gurobipy:Concurrent LP optimizer: primal simplex, dual simplex, and barrier\n"
     ]
    },
    {
     "name": "stdout",
     "output_type": "stream",
     "text": [
      "Showing barrier log only...\n"
     ]
    },
    {
     "name": "stderr",
     "output_type": "stream",
     "text": [
      "INFO:gurobipy:Showing barrier log only...\n"
     ]
    },
    {
     "name": "stdout",
     "output_type": "stream",
     "text": [
      "\n"
     ]
    },
    {
     "name": "stderr",
     "output_type": "stream",
     "text": [
      "INFO:gurobipy:\n"
     ]
    },
    {
     "name": "stdout",
     "output_type": "stream",
     "text": [
      "Ordering time: 0.02s\n"
     ]
    },
    {
     "name": "stderr",
     "output_type": "stream",
     "text": [
      "INFO:gurobipy:Ordering time: 0.02s\n"
     ]
    },
    {
     "name": "stdout",
     "output_type": "stream",
     "text": [
      "\n"
     ]
    },
    {
     "name": "stderr",
     "output_type": "stream",
     "text": [
      "INFO:gurobipy:\n"
     ]
    },
    {
     "name": "stdout",
     "output_type": "stream",
     "text": [
      "Barrier statistics:\n"
     ]
    },
    {
     "name": "stderr",
     "output_type": "stream",
     "text": [
      "INFO:gurobipy:Barrier statistics:\n"
     ]
    },
    {
     "name": "stdout",
     "output_type": "stream",
     "text": [
      " Dense cols : 4\n"
     ]
    },
    {
     "name": "stderr",
     "output_type": "stream",
     "text": [
      "INFO:gurobipy: Dense cols : 4\n"
     ]
    },
    {
     "name": "stdout",
     "output_type": "stream",
     "text": [
      " AA' NZ     : 1.572e+05\n"
     ]
    },
    {
     "name": "stderr",
     "output_type": "stream",
     "text": [
      "INFO:gurobipy: AA' NZ     : 1.572e+05\n"
     ]
    },
    {
     "name": "stdout",
     "output_type": "stream",
     "text": [
      " Factor NZ  : 8.648e+05 (roughly 70 MB of memory)\n"
     ]
    },
    {
     "name": "stderr",
     "output_type": "stream",
     "text": [
      "INFO:gurobipy: Factor NZ  : 8.648e+05 (roughly 70 MB of memory)\n"
     ]
    },
    {
     "name": "stdout",
     "output_type": "stream",
     "text": [
      " Factor Ops : 1.004e+07 (less than 1 second per iteration)\n"
     ]
    },
    {
     "name": "stderr",
     "output_type": "stream",
     "text": [
      "INFO:gurobipy: Factor Ops : 1.004e+07 (less than 1 second per iteration)\n"
     ]
    },
    {
     "name": "stdout",
     "output_type": "stream",
     "text": [
      " Threads    : 1\n"
     ]
    },
    {
     "name": "stderr",
     "output_type": "stream",
     "text": [
      "INFO:gurobipy: Threads    : 1\n"
     ]
    },
    {
     "name": "stdout",
     "output_type": "stream",
     "text": [
      "\n"
     ]
    },
    {
     "name": "stderr",
     "output_type": "stream",
     "text": [
      "INFO:gurobipy:\n"
     ]
    },
    {
     "name": "stdout",
     "output_type": "stream",
     "text": [
      "                  Objective                Residual\n"
     ]
    },
    {
     "name": "stderr",
     "output_type": "stream",
     "text": [
      "INFO:gurobipy:                  Objective                Residual\n"
     ]
    },
    {
     "name": "stdout",
     "output_type": "stream",
     "text": [
      "Iter       Primal          Dual         Primal    Dual     Compl     Time\n"
     ]
    },
    {
     "name": "stderr",
     "output_type": "stream",
     "text": [
      "INFO:gurobipy:Iter       Primal          Dual         Primal    Dual     Compl     Time\n"
     ]
    },
    {
     "name": "stdout",
     "output_type": "stream",
     "text": [
      "   0   3.32220066e+11 -2.76563496e+10  8.59e+04 3.65e+01  4.47e+08     0s\n"
     ]
    },
    {
     "name": "stderr",
     "output_type": "stream",
     "text": [
      "INFO:gurobipy:   0   3.32220066e+11 -2.76563496e+10  8.59e+04 3.65e+01  4.47e+08     0s\n"
     ]
    },
    {
     "name": "stdout",
     "output_type": "stream",
     "text": [
      "   1   4.23692038e+11 -2.09979811e+12  2.06e+04 1.33e+03  8.26e+07     0s\n"
     ]
    },
    {
     "name": "stderr",
     "output_type": "stream",
     "text": [
      "INFO:gurobipy:   1   4.23692038e+11 -2.09979811e+12  2.06e+04 1.33e+03  8.26e+07     0s\n"
     ]
    },
    {
     "name": "stdout",
     "output_type": "stream",
     "text": [
      "   2   3.99244307e+11 -7.48563624e+11  2.15e+03 3.39e+02  1.93e+07     0s\n"
     ]
    },
    {
     "name": "stderr",
     "output_type": "stream",
     "text": [
      "INFO:gurobipy:   2   3.99244307e+11 -7.48563624e+11  2.15e+03 3.39e+02  1.93e+07     0s\n"
     ]
    },
    {
     "name": "stdout",
     "output_type": "stream",
     "text": [
      "   3   2.61460810e+11  3.71399995e+10  2.27e+02 8.70e+00  1.94e+06     0s\n"
     ]
    },
    {
     "name": "stderr",
     "output_type": "stream",
     "text": [
      "INFO:gurobipy:   3   2.61460810e+11  3.71399995e+10  2.27e+02 8.70e+00  1.94e+06     0s\n"
     ]
    },
    {
     "name": "stdout",
     "output_type": "stream",
     "text": [
      "   4   2.02109831e+11  5.90859532e+10  1.18e+02 4.79e+00  1.11e+06     0s\n"
     ]
    },
    {
     "name": "stderr",
     "output_type": "stream",
     "text": [
      "INFO:gurobipy:   4   2.02109831e+11  5.90859532e+10  1.18e+02 4.79e+00  1.11e+06     0s\n"
     ]
    },
    {
     "name": "stdout",
     "output_type": "stream",
     "text": [
      "   5   1.92742011e+11  9.63395414e+10  1.02e+02 1.27e+00  6.90e+05     0s\n"
     ]
    },
    {
     "name": "stderr",
     "output_type": "stream",
     "text": [
      "INFO:gurobipy:   5   1.92742011e+11  9.63395414e+10  1.02e+02 1.27e+00  6.90e+05     0s\n"
     ]
    },
    {
     "name": "stdout",
     "output_type": "stream",
     "text": [
      "   6   1.90221164e+11  1.03094112e+11  9.58e+01 1.09e+00  6.21e+05     0s\n"
     ]
    },
    {
     "name": "stderr",
     "output_type": "stream",
     "text": [
      "INFO:gurobipy:   6   1.90221164e+11  1.03094112e+11  9.58e+01 1.09e+00  6.21e+05     0s\n"
     ]
    },
    {
     "name": "stdout",
     "output_type": "stream",
     "text": [
      "   7   1.81346940e+11  1.28583765e+11  6.78e+01 3.04e-01  3.62e+05     1s\n"
     ]
    },
    {
     "name": "stderr",
     "output_type": "stream",
     "text": [
      "INFO:gurobipy:   7   1.81346940e+11  1.28583765e+11  6.78e+01 3.04e-01  3.62e+05     1s\n"
     ]
    },
    {
     "name": "stdout",
     "output_type": "stream",
     "text": [
      "   8   1.61124512e+11  1.41284811e+11  1.41e+01 7.45e-09  1.26e+05     1s\n"
     ]
    },
    {
     "name": "stderr",
     "output_type": "stream",
     "text": [
      "INFO:gurobipy:   8   1.61124512e+11  1.41284811e+11  1.41e+01 7.45e-09  1.26e+05     1s\n"
     ]
    },
    {
     "name": "stdout",
     "output_type": "stream",
     "text": [
      "   9   1.56352250e+11  1.50505791e+11  3.62e+00 1.59e-12  3.60e+04     1s\n"
     ]
    },
    {
     "name": "stderr",
     "output_type": "stream",
     "text": [
      "INFO:gurobipy:   9   1.56352250e+11  1.50505791e+11  3.62e+00 1.59e-12  3.60e+04     1s\n"
     ]
    },
    {
     "name": "stdout",
     "output_type": "stream",
     "text": [
      "  10   1.55056636e+11  1.52313478e+11  1.57e+00 1.14e-08  1.68e+04     1s\n"
     ]
    },
    {
     "name": "stderr",
     "output_type": "stream",
     "text": [
      "INFO:gurobipy:  10   1.55056636e+11  1.52313478e+11  1.57e+00 1.14e-08  1.68e+04     1s\n"
     ]
    },
    {
     "name": "stdout",
     "output_type": "stream",
     "text": [
      "  11   1.54147866e+11  1.53107230e+11  5.17e-01 1.53e-08  6.35e+03     1s\n"
     ]
    },
    {
     "name": "stderr",
     "output_type": "stream",
     "text": [
      "INFO:gurobipy:  11   1.54147866e+11  1.53107230e+11  5.17e-01 1.53e-08  6.35e+03     1s\n"
     ]
    },
    {
     "name": "stdout",
     "output_type": "stream",
     "text": [
      "  12   1.53975143e+11  1.53445086e+11  3.39e-01 4.62e-08  3.22e+03     1s\n"
     ]
    },
    {
     "name": "stderr",
     "output_type": "stream",
     "text": [
      "INFO:gurobipy:  12   1.53975143e+11  1.53445086e+11  3.39e-01 4.62e-08  3.22e+03     1s\n"
     ]
    },
    {
     "name": "stdout",
     "output_type": "stream",
     "text": [
      "  13   1.53832105e+11  1.53567373e+11  1.97e-01 2.27e-07  1.61e+03     1s\n"
     ]
    },
    {
     "name": "stderr",
     "output_type": "stream",
     "text": [
      "INFO:gurobipy:  13   1.53832105e+11  1.53567373e+11  1.97e-01 2.27e-07  1.61e+03     1s\n"
     ]
    },
    {
     "name": "stdout",
     "output_type": "stream",
     "text": [
      "  14   1.53809902e+11  1.53591282e+11  1.75e-01 3.66e-07  1.32e+03     1s\n"
     ]
    },
    {
     "name": "stderr",
     "output_type": "stream",
     "text": [
      "INFO:gurobipy:  14   1.53809902e+11  1.53591282e+11  1.75e-01 3.66e-07  1.32e+03     1s\n"
     ]
    },
    {
     "name": "stdout",
     "output_type": "stream",
     "text": [
      "  15   1.53762346e+11  1.53599490e+11  1.28e-01 3.71e-07  9.87e+02     1s\n"
     ]
    },
    {
     "name": "stderr",
     "output_type": "stream",
     "text": [
      "INFO:gurobipy:  15   1.53762346e+11  1.53599490e+11  1.28e-01 3.71e-07  9.87e+02     1s\n"
     ]
    },
    {
     "name": "stdout",
     "output_type": "stream",
     "text": [
      "  16   1.53732717e+11  1.53608044e+11  9.85e-02 2.88e-07  7.55e+02     1s\n"
     ]
    },
    {
     "name": "stderr",
     "output_type": "stream",
     "text": [
      "INFO:gurobipy:  16   1.53732717e+11  1.53608044e+11  9.85e-02 2.88e-07  7.55e+02     1s\n"
     ]
    },
    {
     "name": "stdout",
     "output_type": "stream",
     "text": [
      "  17   1.53707495e+11  1.53616989e+11  7.31e-02 2.53e-07  5.48e+02     1s\n"
     ]
    },
    {
     "name": "stderr",
     "output_type": "stream",
     "text": [
      "INFO:gurobipy:  17   1.53707495e+11  1.53616989e+11  7.31e-02 2.53e-07  5.48e+02     1s\n"
     ]
    },
    {
     "name": "stdout",
     "output_type": "stream",
     "text": [
      "  18   1.53695446e+11  1.53621865e+11  6.20e-02 2.57e-07  4.45e+02     1s\n"
     ]
    },
    {
     "name": "stderr",
     "output_type": "stream",
     "text": [
      "INFO:gurobipy:  18   1.53695446e+11  1.53621865e+11  6.20e-02 2.57e-07  4.45e+02     1s\n"
     ]
    },
    {
     "name": "stdout",
     "output_type": "stream",
     "text": [
      "  19   1.53695106e+11  1.53624292e+11  6.16e-02 2.36e-07  4.28e+02     1s\n"
     ]
    },
    {
     "name": "stderr",
     "output_type": "stream",
     "text": [
      "INFO:gurobipy:  19   1.53695106e+11  1.53624292e+11  6.16e-02 2.36e-07  4.28e+02     1s\n"
     ]
    },
    {
     "name": "stdout",
     "output_type": "stream",
     "text": [
      "  20   1.53680692e+11  1.53656197e+11  2.40e-02 2.25e-07  1.48e+02     1s\n"
     ]
    },
    {
     "name": "stderr",
     "output_type": "stream",
     "text": [
      "INFO:gurobipy:  20   1.53680692e+11  1.53656197e+11  2.40e-02 2.25e-07  1.48e+02     1s\n"
     ]
    },
    {
     "name": "stdout",
     "output_type": "stream",
     "text": [
      "  21   1.53674626e+11  1.53665214e+11  1.03e-02 9.12e-08  5.69e+01     1s\n"
     ]
    },
    {
     "name": "stderr",
     "output_type": "stream",
     "text": [
      "INFO:gurobipy:  21   1.53674626e+11  1.53665214e+11  1.03e-02 9.12e-08  5.69e+01     1s\n"
     ]
    },
    {
     "name": "stdout",
     "output_type": "stream",
     "text": [
      "  22   1.53672056e+11  1.53667619e+11  4.80e-03 4.44e-08  2.68e+01     1s\n"
     ]
    },
    {
     "name": "stderr",
     "output_type": "stream",
     "text": [
      "INFO:gurobipy:  22   1.53672056e+11  1.53667619e+11  4.80e-03 4.44e-08  2.68e+01     1s\n"
     ]
    },
    {
     "name": "stdout",
     "output_type": "stream",
     "text": [
      "  23   1.53671037e+11  1.53668692e+11  2.70e-03 2.15e-08  1.42e+01     1s\n"
     ]
    },
    {
     "name": "stderr",
     "output_type": "stream",
     "text": [
      "INFO:gurobipy:  23   1.53671037e+11  1.53668692e+11  2.70e-03 2.15e-08  1.42e+01     1s\n"
     ]
    },
    {
     "name": "stdout",
     "output_type": "stream",
     "text": [
      "  24   1.53670266e+11  1.53669291e+11  1.16e-03 1.35e-08  5.90e+00     1s\n"
     ]
    },
    {
     "name": "stderr",
     "output_type": "stream",
     "text": [
      "INFO:gurobipy:  24   1.53670266e+11  1.53669291e+11  1.16e-03 1.35e-08  5.90e+00     1s\n"
     ]
    },
    {
     "name": "stdout",
     "output_type": "stream",
     "text": [
      "  25   1.53669785e+11  1.53669526e+11  2.50e-04 2.10e-09  1.57e+00     1s\n"
     ]
    },
    {
     "name": "stderr",
     "output_type": "stream",
     "text": [
      "INFO:gurobipy:  25   1.53669785e+11  1.53669526e+11  2.50e-04 2.10e-09  1.57e+00     1s\n"
     ]
    },
    {
     "name": "stdout",
     "output_type": "stream",
     "text": [
      "  26   1.53669699e+11  1.53669579e+11  1.07e-04 2.44e-09  7.25e-01     1s\n"
     ]
    },
    {
     "name": "stderr",
     "output_type": "stream",
     "text": [
      "INFO:gurobipy:  26   1.53669699e+11  1.53669579e+11  1.07e-04 2.44e-09  7.25e-01     1s\n"
     ]
    },
    {
     "name": "stdout",
     "output_type": "stream",
     "text": [
      "  27   1.53669664e+11  1.53669606e+11  5.17e-05 2.79e-09  3.50e-01     1s\n"
     ]
    },
    {
     "name": "stderr",
     "output_type": "stream",
     "text": [
      "INFO:gurobipy:  27   1.53669664e+11  1.53669606e+11  5.17e-05 2.79e-09  3.50e-01     1s\n"
     ]
    },
    {
     "name": "stdout",
     "output_type": "stream",
     "text": [
      "  28   1.53669646e+11  1.53669617e+11  2.36e-05 1.05e-09  1.76e-01     1s\n"
     ]
    },
    {
     "name": "stderr",
     "output_type": "stream",
     "text": [
      "INFO:gurobipy:  28   1.53669646e+11  1.53669617e+11  2.36e-05 1.05e-09  1.76e-01     1s\n"
     ]
    },
    {
     "name": "stdout",
     "output_type": "stream",
     "text": [
      "  29   1.53669636e+11  1.53669626e+11  3.38e-05 1.75e-09  6.22e-02     1s\n"
     ]
    },
    {
     "name": "stderr",
     "output_type": "stream",
     "text": [
      "INFO:gurobipy:  29   1.53669636e+11  1.53669626e+11  3.38e-05 1.75e-09  6.22e-02     1s\n"
     ]
    },
    {
     "name": "stdout",
     "output_type": "stream",
     "text": [
      "  30   1.53669632e+11  1.53669629e+11  4.38e-05 1.14e-09  1.35e-02     1s\n"
     ]
    },
    {
     "name": "stderr",
     "output_type": "stream",
     "text": [
      "INFO:gurobipy:  30   1.53669632e+11  1.53669629e+11  4.38e-05 1.14e-09  1.35e-02     1s\n"
     ]
    },
    {
     "name": "stdout",
     "output_type": "stream",
     "text": [
      "  31   1.53669631e+11  1.53669630e+11  1.95e-05 3.49e-09  3.31e-03     1s\n"
     ]
    },
    {
     "name": "stderr",
     "output_type": "stream",
     "text": [
      "INFO:gurobipy:  31   1.53669631e+11  1.53669630e+11  1.95e-05 3.49e-09  3.31e-03     1s\n"
     ]
    },
    {
     "name": "stdout",
     "output_type": "stream",
     "text": [
      "  32   1.53669631e+11  1.53669631e+11  1.08e-05 2.56e-09  1.37e-03     1s\n"
     ]
    },
    {
     "name": "stderr",
     "output_type": "stream",
     "text": [
      "INFO:gurobipy:  32   1.53669631e+11  1.53669631e+11  1.08e-05 2.56e-09  1.37e-03     1s\n"
     ]
    },
    {
     "name": "stdout",
     "output_type": "stream",
     "text": [
      "  33   1.53669631e+11  1.53669631e+11  3.40e-06 2.10e-09  3.94e-04     1s\n"
     ]
    },
    {
     "name": "stderr",
     "output_type": "stream",
     "text": [
      "INFO:gurobipy:  33   1.53669631e+11  1.53669631e+11  3.40e-06 2.10e-09  3.94e-04     1s\n"
     ]
    },
    {
     "name": "stdout",
     "output_type": "stream",
     "text": [
      "  34   1.53669631e+11  1.53669631e+11  2.20e-07 5.60e-08  5.95e-05     1s\n"
     ]
    },
    {
     "name": "stderr",
     "output_type": "stream",
     "text": [
      "INFO:gurobipy:  34   1.53669631e+11  1.53669631e+11  2.20e-07 5.60e-08  5.95e-05     1s\n"
     ]
    },
    {
     "name": "stdout",
     "output_type": "stream",
     "text": [
      "  35   1.53669631e+11  1.53669631e+11  3.54e-08 7.12e-08  6.89e-06     1s\n"
     ]
    },
    {
     "name": "stderr",
     "output_type": "stream",
     "text": [
      "INFO:gurobipy:  35   1.53669631e+11  1.53669631e+11  3.54e-08 7.12e-08  6.89e-06     1s\n"
     ]
    },
    {
     "name": "stdout",
     "output_type": "stream",
     "text": [
      "  36   1.53669631e+11  1.53669631e+11  5.06e-09 6.57e-08  2.28e-07     1s\n"
     ]
    },
    {
     "name": "stderr",
     "output_type": "stream",
     "text": [
      "INFO:gurobipy:  36   1.53669631e+11  1.53669631e+11  5.06e-09 6.57e-08  2.28e-07     1s\n"
     ]
    },
    {
     "name": "stdout",
     "output_type": "stream",
     "text": [
      "  37   1.53669631e+11  1.53669631e+11  3.55e-09 4.97e-08  2.54e-10     1s\n"
     ]
    },
    {
     "name": "stderr",
     "output_type": "stream",
     "text": [
      "INFO:gurobipy:  37   1.53669631e+11  1.53669631e+11  3.55e-09 4.97e-08  2.54e-10     1s\n"
     ]
    },
    {
     "name": "stdout",
     "output_type": "stream",
     "text": [
      "\n"
     ]
    },
    {
     "name": "stderr",
     "output_type": "stream",
     "text": [
      "INFO:gurobipy:\n"
     ]
    },
    {
     "name": "stdout",
     "output_type": "stream",
     "text": [
      "Barrier solved model in 37 iterations and 1.32 seconds (1.50 work units)\n"
     ]
    },
    {
     "name": "stderr",
     "output_type": "stream",
     "text": [
      "INFO:gurobipy:Barrier solved model in 37 iterations and 1.32 seconds (1.50 work units)\n"
     ]
    },
    {
     "name": "stdout",
     "output_type": "stream",
     "text": [
      "Optimal objective 1.53669631e+11\n"
     ]
    },
    {
     "name": "stderr",
     "output_type": "stream",
     "text": [
      "INFO:gurobipy:Optimal objective 1.53669631e+11\n"
     ]
    },
    {
     "name": "stdout",
     "output_type": "stream",
     "text": [
      "\n"
     ]
    },
    {
     "name": "stderr",
     "output_type": "stream",
     "text": [
      "INFO:gurobipy:\n"
     ]
    },
    {
     "name": "stdout",
     "output_type": "stream",
     "text": [
      "Crossover log...\n"
     ]
    },
    {
     "name": "stderr",
     "output_type": "stream",
     "text": [
      "INFO:gurobipy:Crossover log...\n"
     ]
    },
    {
     "name": "stdout",
     "output_type": "stream",
     "text": [
      "\n"
     ]
    },
    {
     "name": "stderr",
     "output_type": "stream",
     "text": [
      "INFO:gurobipy:\n"
     ]
    },
    {
     "name": "stdout",
     "output_type": "stream",
     "text": [
      "    2437 DPushes remaining with DInf 0.0000000e+00                 1s\n"
     ]
    },
    {
     "name": "stderr",
     "output_type": "stream",
     "text": [
      "INFO:gurobipy:    2437 DPushes remaining with DInf 0.0000000e+00                 1s\n"
     ]
    },
    {
     "name": "stdout",
     "output_type": "stream",
     "text": [
      "       0 DPushes remaining with DInf 0.0000000e+00                 1s\n"
     ]
    },
    {
     "name": "stderr",
     "output_type": "stream",
     "text": [
      "INFO:gurobipy:       0 DPushes remaining with DInf 0.0000000e+00                 1s\n"
     ]
    },
    {
     "name": "stdout",
     "output_type": "stream",
     "text": [
      "\n"
     ]
    },
    {
     "name": "stderr",
     "output_type": "stream",
     "text": [
      "INFO:gurobipy:\n"
     ]
    },
    {
     "name": "stdout",
     "output_type": "stream",
     "text": [
      "    4453 PPushes remaining with PInf 0.0000000e+00                 1s\n"
     ]
    },
    {
     "name": "stderr",
     "output_type": "stream",
     "text": [
      "INFO:gurobipy:    4453 PPushes remaining with PInf 0.0000000e+00                 1s\n"
     ]
    },
    {
     "name": "stdout",
     "output_type": "stream",
     "text": [
      "       0 PPushes remaining with PInf 0.0000000e+00                 1s\n"
     ]
    },
    {
     "name": "stderr",
     "output_type": "stream",
     "text": [
      "INFO:gurobipy:       0 PPushes remaining with PInf 0.0000000e+00                 1s\n"
     ]
    },
    {
     "name": "stdout",
     "output_type": "stream",
     "text": [
      "\n"
     ]
    },
    {
     "name": "stderr",
     "output_type": "stream",
     "text": [
      "INFO:gurobipy:\n"
     ]
    },
    {
     "name": "stdout",
     "output_type": "stream",
     "text": [
      "  Push phase complete: Pinf 0.0000000e+00, Dinf 2.9676015e-10      1s\n"
     ]
    },
    {
     "name": "stderr",
     "output_type": "stream",
     "text": [
      "INFO:gurobipy:  Push phase complete: Pinf 0.0000000e+00, Dinf 2.9676015e-10      1s\n"
     ]
    },
    {
     "name": "stdout",
     "output_type": "stream",
     "text": [
      "\n"
     ]
    },
    {
     "name": "stderr",
     "output_type": "stream",
     "text": [
      "INFO:gurobipy:\n"
     ]
    },
    {
     "name": "stdout",
     "output_type": "stream",
     "text": [
      "\n"
     ]
    },
    {
     "name": "stderr",
     "output_type": "stream",
     "text": [
      "INFO:gurobipy:\n"
     ]
    },
    {
     "name": "stdout",
     "output_type": "stream",
     "text": [
      "Solved with barrier\n"
     ]
    },
    {
     "name": "stderr",
     "output_type": "stream",
     "text": [
      "INFO:gurobipy:Solved with barrier\n"
     ]
    },
    {
     "name": "stdout",
     "output_type": "stream",
     "text": [
      "Iteration    Objective       Primal Inf.    Dual Inf.      Time\n"
     ]
    },
    {
     "name": "stderr",
     "output_type": "stream",
     "text": [
      "INFO:gurobipy:Iteration    Objective       Primal Inf.    Dual Inf.      Time\n"
     ]
    },
    {
     "name": "stdout",
     "output_type": "stream",
     "text": [
      "    6893    1.5366963e+11   0.000000e+00   0.000000e+00      1s\n"
     ]
    },
    {
     "name": "stderr",
     "output_type": "stream",
     "text": [
      "INFO:gurobipy:    6893    1.5366963e+11   0.000000e+00   0.000000e+00      1s\n"
     ]
    },
    {
     "name": "stdout",
     "output_type": "stream",
     "text": [
      "\n"
     ]
    },
    {
     "name": "stderr",
     "output_type": "stream",
     "text": [
      "INFO:gurobipy:\n"
     ]
    },
    {
     "name": "stdout",
     "output_type": "stream",
     "text": [
      "Solved in 6893 iterations and 1.46 seconds (1.65 work units)\n"
     ]
    },
    {
     "name": "stderr",
     "output_type": "stream",
     "text": [
      "INFO:gurobipy:Solved in 6893 iterations and 1.46 seconds (1.65 work units)\n"
     ]
    },
    {
     "name": "stdout",
     "output_type": "stream",
     "text": [
      "Optimal objective  1.536696307e+11\n"
     ]
    },
    {
     "name": "stderr",
     "output_type": "stream",
     "text": [
      "INFO:gurobipy:Optimal objective  1.536696307e+11\n",
      "INFO:linopy.constants: Optimization successful: \n",
      "Status: ok\n",
      "Termination condition: optimal\n",
      "Solution: 78628 primals, 192196 duals\n",
      "Objective: 1.54e+11\n",
      "Solver model: available\n",
      "Solver message: 2\n",
      "\n",
      "INFO:pypsa.optimization.optimize:The shadow-prices of the constraints Generator-fix-p-lower, Generator-fix-p-upper, Generator-ext-p-lower, Generator-ext-p-upper, Generator-p_set, Link-fix-p-lower, Link-fix-p-upper, StorageUnit-ext-p_dispatch-lower, StorageUnit-ext-p_dispatch-upper, StorageUnit-ext-p_store-lower, StorageUnit-ext-p_store-upper, StorageUnit-ext-state_of_charge-lower, StorageUnit-ext-state_of_charge-upper, StorageUnit-energy_balance were not assigned to the network.\n",
      "WARNING:pypsa.consistency:Encountered nan's in varying data 'p_set' for columns ['grid_demand'] of component 'Load'.\n",
      "WARNING:pypsa.consistency:Encountered nan's in varying data 'p_set' for columns ['grid_demand'] of component 'Load'.\n"
     ]
    },
    {
     "name": "stdout",
     "output_type": "stream",
     "text": [
      "Running scenario 3...\n"
     ]
    },
    {
     "name": "stderr",
     "output_type": "stream",
     "text": [
      "INFO:linopy.model: Solve problem using Gurobi solver\n"
     ]
    },
    {
     "name": "stdout",
     "output_type": "stream",
     "text": [
      "Set parameter Username\n"
     ]
    },
    {
     "name": "stderr",
     "output_type": "stream",
     "text": [
      "INFO:gurobipy:Set parameter Username\n"
     ]
    },
    {
     "name": "stdout",
     "output_type": "stream",
     "text": [
      "Academic license - for non-commercial use only - expires 2025-06-14\n"
     ]
    },
    {
     "name": "stderr",
     "output_type": "stream",
     "text": [
      "INFO:gurobipy:Academic license - for non-commercial use only - expires 2025-06-14\n",
      "INFO:linopy.io:Writing objective.\n",
      "Writing constraints.: 100%|\u001b[38;2;128;191;255m██████████\u001b[0m| 19/19 [00:00<00:00, 47.50it/s]\n",
      "Writing continuous variables.: 100%|\u001b[38;2;128;191;255m██████████\u001b[0m| 7/7 [00:00<00:00, 97.09it/s]\n",
      "INFO:linopy.io: Writing time: 0.5s\n"
     ]
    },
    {
     "name": "stdout",
     "output_type": "stream",
     "text": [
      "Read LP format model from file /private/var/folders/19/15zhn_ps157bgm3p882t881h0000gn/T/linopy-problem-pa797tmh.lp\n"
     ]
    },
    {
     "name": "stderr",
     "output_type": "stream",
     "text": [
      "INFO:gurobipy:Read LP format model from file /private/var/folders/19/15zhn_ps157bgm3p882t881h0000gn/T/linopy-problem-pa797tmh.lp\n"
     ]
    },
    {
     "name": "stdout",
     "output_type": "stream",
     "text": [
      "Reading time = 0.19 seconds\n"
     ]
    },
    {
     "name": "stderr",
     "output_type": "stream",
     "text": [
      "INFO:gurobipy:Reading time = 0.19 seconds\n"
     ]
    },
    {
     "name": "stdout",
     "output_type": "stream",
     "text": [
      "obj: 192196 rows, 78628 columns, 340708 nonzeros\n"
     ]
    },
    {
     "name": "stderr",
     "output_type": "stream",
     "text": [
      "INFO:gurobipy:obj: 192196 rows, 78628 columns, 340708 nonzeros\n"
     ]
    },
    {
     "name": "stdout",
     "output_type": "stream",
     "text": [
      "Gurobi Optimizer version 11.0.2 build v11.0.2rc0 (mac64[arm] - Darwin 23.5.0 23F79)\n"
     ]
    },
    {
     "name": "stderr",
     "output_type": "stream",
     "text": [
      "INFO:gurobipy:Gurobi Optimizer version 11.0.2 build v11.0.2rc0 (mac64[arm] - Darwin 23.5.0 23F79)\n"
     ]
    },
    {
     "name": "stdout",
     "output_type": "stream",
     "text": [
      "\n"
     ]
    },
    {
     "name": "stderr",
     "output_type": "stream",
     "text": [
      "INFO:gurobipy:\n"
     ]
    },
    {
     "name": "stdout",
     "output_type": "stream",
     "text": [
      "CPU model: Apple M2\n"
     ]
    },
    {
     "name": "stderr",
     "output_type": "stream",
     "text": [
      "INFO:gurobipy:CPU model: Apple M2\n"
     ]
    },
    {
     "name": "stdout",
     "output_type": "stream",
     "text": [
      "Thread count: 8 physical cores, 8 logical processors, using up to 8 threads\n"
     ]
    },
    {
     "name": "stderr",
     "output_type": "stream",
     "text": [
      "INFO:gurobipy:Thread count: 8 physical cores, 8 logical processors, using up to 8 threads\n"
     ]
    },
    {
     "name": "stdout",
     "output_type": "stream",
     "text": [
      "\n"
     ]
    },
    {
     "name": "stderr",
     "output_type": "stream",
     "text": [
      "INFO:gurobipy:\n"
     ]
    },
    {
     "name": "stdout",
     "output_type": "stream",
     "text": [
      "Optimize a model with 192196 rows, 78628 columns and 340708 nonzeros\n"
     ]
    },
    {
     "name": "stderr",
     "output_type": "stream",
     "text": [
      "INFO:gurobipy:Optimize a model with 192196 rows, 78628 columns and 340708 nonzeros\n"
     ]
    },
    {
     "name": "stdout",
     "output_type": "stream",
     "text": [
      "Model fingerprint: 0x6d21dd03\n"
     ]
    },
    {
     "name": "stderr",
     "output_type": "stream",
     "text": [
      "INFO:gurobipy:Model fingerprint: 0x6d21dd03\n"
     ]
    },
    {
     "name": "stdout",
     "output_type": "stream",
     "text": [
      "Coefficient statistics:\n"
     ]
    },
    {
     "name": "stderr",
     "output_type": "stream",
     "text": [
      "INFO:gurobipy:Coefficient statistics:\n"
     ]
    },
    {
     "name": "stdout",
     "output_type": "stream",
     "text": [
      "  Matrix range     [9e-01, 2e+00]\n"
     ]
    },
    {
     "name": "stderr",
     "output_type": "stream",
     "text": [
      "INFO:gurobipy:  Matrix range     [9e-01, 2e+00]\n"
     ]
    },
    {
     "name": "stdout",
     "output_type": "stream",
     "text": [
      "  Objective range  [1e-02, 2e+06]\n"
     ]
    },
    {
     "name": "stderr",
     "output_type": "stream",
     "text": [
      "INFO:gurobipy:  Objective range  [1e-02, 2e+06]\n"
     ]
    },
    {
     "name": "stdout",
     "output_type": "stream",
     "text": [
      "  Bounds range     [0e+00, 0e+00]\n"
     ]
    },
    {
     "name": "stderr",
     "output_type": "stream",
     "text": [
      "INFO:gurobipy:  Bounds range     [0e+00, 0e+00]\n"
     ]
    },
    {
     "name": "stdout",
     "output_type": "stream",
     "text": [
      "  RHS range        [1e-03, 9e+04]\n"
     ]
    },
    {
     "name": "stderr",
     "output_type": "stream",
     "text": [
      "INFO:gurobipy:  RHS range        [1e-03, 9e+04]\n"
     ]
    },
    {
     "name": "stdout",
     "output_type": "stream",
     "text": [
      "Presolve removed 113578 rows and 8742 columns\n"
     ]
    },
    {
     "name": "stderr",
     "output_type": "stream",
     "text": [
      "INFO:gurobipy:Presolve removed 113578 rows and 8742 columns\n"
     ]
    },
    {
     "name": "stdout",
     "output_type": "stream",
     "text": [
      "Presolve time: 0.11s\n"
     ]
    },
    {
     "name": "stderr",
     "output_type": "stream",
     "text": [
      "INFO:gurobipy:Presolve time: 0.11s\n"
     ]
    },
    {
     "name": "stdout",
     "output_type": "stream",
     "text": [
      "Presolved: 78618 rows, 69886 columns, 218394 nonzeros\n"
     ]
    },
    {
     "name": "stderr",
     "output_type": "stream",
     "text": [
      "INFO:gurobipy:Presolved: 78618 rows, 69886 columns, 218394 nonzeros\n"
     ]
    },
    {
     "name": "stdout",
     "output_type": "stream",
     "text": [
      "\n"
     ]
    },
    {
     "name": "stderr",
     "output_type": "stream",
     "text": [
      "INFO:gurobipy:\n"
     ]
    },
    {
     "name": "stdout",
     "output_type": "stream",
     "text": [
      "Concurrent LP optimizer: primal simplex, dual simplex, and barrier\n"
     ]
    },
    {
     "name": "stderr",
     "output_type": "stream",
     "text": [
      "INFO:gurobipy:Concurrent LP optimizer: primal simplex, dual simplex, and barrier\n"
     ]
    },
    {
     "name": "stdout",
     "output_type": "stream",
     "text": [
      "Showing barrier log only...\n"
     ]
    },
    {
     "name": "stderr",
     "output_type": "stream",
     "text": [
      "INFO:gurobipy:Showing barrier log only...\n"
     ]
    },
    {
     "name": "stdout",
     "output_type": "stream",
     "text": [
      "\n"
     ]
    },
    {
     "name": "stderr",
     "output_type": "stream",
     "text": [
      "INFO:gurobipy:\n"
     ]
    },
    {
     "name": "stdout",
     "output_type": "stream",
     "text": [
      "Ordering time: 0.02s\n"
     ]
    },
    {
     "name": "stderr",
     "output_type": "stream",
     "text": [
      "INFO:gurobipy:Ordering time: 0.02s\n"
     ]
    },
    {
     "name": "stdout",
     "output_type": "stream",
     "text": [
      "\n"
     ]
    },
    {
     "name": "stderr",
     "output_type": "stream",
     "text": [
      "INFO:gurobipy:\n"
     ]
    },
    {
     "name": "stdout",
     "output_type": "stream",
     "text": [
      "Barrier statistics:\n"
     ]
    },
    {
     "name": "stderr",
     "output_type": "stream",
     "text": [
      "INFO:gurobipy:Barrier statistics:\n"
     ]
    },
    {
     "name": "stdout",
     "output_type": "stream",
     "text": [
      " Dense cols : 4\n"
     ]
    },
    {
     "name": "stderr",
     "output_type": "stream",
     "text": [
      "INFO:gurobipy: Dense cols : 4\n"
     ]
    },
    {
     "name": "stdout",
     "output_type": "stream",
     "text": [
      " AA' NZ     : 1.572e+05\n"
     ]
    },
    {
     "name": "stderr",
     "output_type": "stream",
     "text": [
      "INFO:gurobipy: AA' NZ     : 1.572e+05\n"
     ]
    },
    {
     "name": "stdout",
     "output_type": "stream",
     "text": [
      " Factor NZ  : 8.648e+05 (roughly 70 MB of memory)\n"
     ]
    },
    {
     "name": "stderr",
     "output_type": "stream",
     "text": [
      "INFO:gurobipy: Factor NZ  : 8.648e+05 (roughly 70 MB of memory)\n"
     ]
    },
    {
     "name": "stdout",
     "output_type": "stream",
     "text": [
      " Factor Ops : 1.004e+07 (less than 1 second per iteration)\n"
     ]
    },
    {
     "name": "stderr",
     "output_type": "stream",
     "text": [
      "INFO:gurobipy: Factor Ops : 1.004e+07 (less than 1 second per iteration)\n"
     ]
    },
    {
     "name": "stdout",
     "output_type": "stream",
     "text": [
      " Threads    : 1\n"
     ]
    },
    {
     "name": "stderr",
     "output_type": "stream",
     "text": [
      "INFO:gurobipy: Threads    : 1\n"
     ]
    },
    {
     "name": "stdout",
     "output_type": "stream",
     "text": [
      "\n"
     ]
    },
    {
     "name": "stderr",
     "output_type": "stream",
     "text": [
      "INFO:gurobipy:\n"
     ]
    },
    {
     "name": "stdout",
     "output_type": "stream",
     "text": [
      "                  Objective                Residual\n"
     ]
    },
    {
     "name": "stderr",
     "output_type": "stream",
     "text": [
      "INFO:gurobipy:                  Objective                Residual\n"
     ]
    },
    {
     "name": "stdout",
     "output_type": "stream",
     "text": [
      "Iter       Primal          Dual         Primal    Dual     Compl     Time\n"
     ]
    },
    {
     "name": "stderr",
     "output_type": "stream",
     "text": [
      "INFO:gurobipy:Iter       Primal          Dual         Primal    Dual     Compl     Time\n"
     ]
    },
    {
     "name": "stdout",
     "output_type": "stream",
     "text": [
      "   0   3.29359736e+11 -2.63444128e+10  8.47e+04 3.22e+01  4.24e+08     0s\n"
     ]
    },
    {
     "name": "stderr",
     "output_type": "stream",
     "text": [
      "INFO:gurobipy:   0   3.29359736e+11 -2.63444128e+10  8.47e+04 3.22e+01  4.24e+08     0s\n"
     ]
    },
    {
     "name": "stdout",
     "output_type": "stream",
     "text": [
      "   1   4.31326817e+11 -1.37465569e+12  1.94e+04 1.79e+03  8.90e+07     0s\n"
     ]
    },
    {
     "name": "stderr",
     "output_type": "stream",
     "text": [
      "INFO:gurobipy:   1   4.31326817e+11 -1.37465569e+12  1.94e+04 1.79e+03  8.90e+07     0s\n"
     ]
    },
    {
     "name": "stdout",
     "output_type": "stream",
     "text": [
      "   2   3.99280210e+11 -3.76101210e+11  3.90e+03 1.32e+02  1.39e+07     0s\n"
     ]
    },
    {
     "name": "stderr",
     "output_type": "stream",
     "text": [
      "INFO:gurobipy:   2   3.99280210e+11 -3.76101210e+11  3.90e+03 1.32e+02  1.39e+07     0s\n"
     ]
    },
    {
     "name": "stdout",
     "output_type": "stream",
     "text": [
      "   3   2.37451176e+11  5.17081436e+10  8.92e+02 2.43e+00  2.35e+06     0s\n"
     ]
    },
    {
     "name": "stderr",
     "output_type": "stream",
     "text": [
      "INFO:gurobipy:   3   2.37451176e+11  5.17081436e+10  8.92e+02 2.43e+00  2.35e+06     0s\n"
     ]
    },
    {
     "name": "stdout",
     "output_type": "stream",
     "text": [
      "   4   1.96860695e+11  8.32781577e+10  5.77e+02 5.82e-10  1.25e+06     0s\n"
     ]
    },
    {
     "name": "stderr",
     "output_type": "stream",
     "text": [
      "INFO:gurobipy:   4   1.96860695e+11  8.32781577e+10  5.77e+02 5.82e-10  1.25e+06     0s\n"
     ]
    },
    {
     "name": "stdout",
     "output_type": "stream",
     "text": [
      "   5   1.90579530e+11  9.52872582e+10  4.84e+02 3.73e-09  1.00e+06     0s\n"
     ]
    },
    {
     "name": "stderr",
     "output_type": "stream",
     "text": [
      "INFO:gurobipy:   5   1.90579530e+11  9.52872582e+10  4.84e+02 3.73e-09  1.00e+06     0s\n"
     ]
    },
    {
     "name": "stdout",
     "output_type": "stream",
     "text": [
      "   6   1.84833805e+11  1.11502153e+11  4.13e+02 6.40e-10  7.44e+05     0s\n"
     ]
    },
    {
     "name": "stderr",
     "output_type": "stream",
     "text": [
      "INFO:gurobipy:   6   1.84833805e+11  1.11502153e+11  4.13e+02 6.40e-10  7.44e+05     0s\n"
     ]
    },
    {
     "name": "stdout",
     "output_type": "stream",
     "text": [
      "   7   1.67759192e+11  1.34151158e+11  1.63e+02 1.16e-09  2.88e+05     1s\n"
     ]
    },
    {
     "name": "stderr",
     "output_type": "stream",
     "text": [
      "INFO:gurobipy:   7   1.67759192e+11  1.34151158e+11  1.63e+02 1.16e-09  2.88e+05     1s\n"
     ]
    },
    {
     "name": "stdout",
     "output_type": "stream",
     "text": [
      "   8   1.60202460e+11  1.44892517e+11  6.99e+01 1.79e-08  1.12e+05     1s\n"
     ]
    },
    {
     "name": "stderr",
     "output_type": "stream",
     "text": [
      "INFO:gurobipy:   8   1.60202460e+11  1.44892517e+11  6.99e+01 1.79e-08  1.12e+05     1s\n"
     ]
    },
    {
     "name": "stdout",
     "output_type": "stream",
     "text": [
      "   9   1.56465991e+11  1.50084378e+11  2.68e+01 2.91e-09  4.21e+04     1s\n"
     ]
    },
    {
     "name": "stderr",
     "output_type": "stream",
     "text": [
      "INFO:gurobipy:   9   1.56465991e+11  1.50084378e+11  2.68e+01 2.91e-09  4.21e+04     1s\n"
     ]
    },
    {
     "name": "stdout",
     "output_type": "stream",
     "text": [
      "  10   1.54940929e+11  1.51807467e+11  1.23e+01 1.54e-08  1.98e+04     1s\n"
     ]
    },
    {
     "name": "stderr",
     "output_type": "stream",
     "text": [
      "INFO:gurobipy:  10   1.54940929e+11  1.51807467e+11  1.23e+01 1.54e-08  1.98e+04     1s\n"
     ]
    },
    {
     "name": "stdout",
     "output_type": "stream",
     "text": [
      "  11   1.54077334e+11  1.52729684e+11  5.41e+00 3.59e-08  8.33e+03     1s\n"
     ]
    },
    {
     "name": "stderr",
     "output_type": "stream",
     "text": [
      "INFO:gurobipy:  11   1.54077334e+11  1.52729684e+11  5.41e+00 3.59e-08  8.33e+03     1s\n"
     ]
    },
    {
     "name": "stdout",
     "output_type": "stream",
     "text": [
      "  12   1.53525506e+11  1.53046211e+11  1.60e+00 3.26e-08  2.93e+03     1s\n"
     ]
    },
    {
     "name": "stderr",
     "output_type": "stream",
     "text": [
      "INFO:gurobipy:  12   1.53525506e+11  1.53046211e+11  1.60e+00 3.26e-08  2.93e+03     1s\n"
     ]
    },
    {
     "name": "stdout",
     "output_type": "stream",
     "text": [
      "  13   1.53436912e+11  1.53144488e+11  1.17e+00 2.19e-07  1.79e+03     1s\n"
     ]
    },
    {
     "name": "stderr",
     "output_type": "stream",
     "text": [
      "INFO:gurobipy:  13   1.53436912e+11  1.53144488e+11  1.17e+00 2.19e-07  1.79e+03     1s\n"
     ]
    },
    {
     "name": "stdout",
     "output_type": "stream",
     "text": [
      "  14   1.53370909e+11  1.53159244e+11  8.42e-01 1.97e-07  1.29e+03     1s\n"
     ]
    },
    {
     "name": "stderr",
     "output_type": "stream",
     "text": [
      "INFO:gurobipy:  14   1.53370909e+11  1.53159244e+11  8.42e-01 1.97e-07  1.29e+03     1s\n"
     ]
    },
    {
     "name": "stdout",
     "output_type": "stream",
     "text": [
      "  15   1.53308866e+11  1.53177121e+11  5.33e-01 1.56e-07  8.04e+02     1s\n"
     ]
    },
    {
     "name": "stderr",
     "output_type": "stream",
     "text": [
      "INFO:gurobipy:  15   1.53308866e+11  1.53177121e+11  5.33e-01 1.56e-07  8.04e+02     1s\n"
     ]
    },
    {
     "name": "stdout",
     "output_type": "stream",
     "text": [
      "  16   1.53290011e+11  1.53180211e+11  4.34e-01 1.39e-07  6.70e+02     1s\n"
     ]
    },
    {
     "name": "stderr",
     "output_type": "stream",
     "text": [
      "INFO:gurobipy:  16   1.53290011e+11  1.53180211e+11  4.34e-01 1.39e-07  6.70e+02     1s\n"
     ]
    },
    {
     "name": "stdout",
     "output_type": "stream",
     "text": [
      "  17   1.53274843e+11  1.53190498e+11  3.60e-01 8.68e-08  5.15e+02     1s\n"
     ]
    },
    {
     "name": "stderr",
     "output_type": "stream",
     "text": [
      "INFO:gurobipy:  17   1.53274843e+11  1.53190498e+11  3.60e-01 8.68e-08  5.15e+02     1s\n"
     ]
    },
    {
     "name": "stdout",
     "output_type": "stream",
     "text": [
      "  18   1.53268441e+11  1.53219520e+11  2.54e-01 3.67e-08  2.99e+02     1s\n"
     ]
    },
    {
     "name": "stderr",
     "output_type": "stream",
     "text": [
      "INFO:gurobipy:  18   1.53268441e+11  1.53219520e+11  2.54e-01 3.67e-08  2.99e+02     1s\n"
     ]
    },
    {
     "name": "stdout",
     "output_type": "stream",
     "text": [
      "  19   1.53255960e+11  1.53240578e+11  7.54e-02 4.10e-08  9.39e+01     1s\n"
     ]
    },
    {
     "name": "stderr",
     "output_type": "stream",
     "text": [
      "INFO:gurobipy:  19   1.53255960e+11  1.53240578e+11  7.54e-02 4.10e-08  9.39e+01     1s\n"
     ]
    },
    {
     "name": "stdout",
     "output_type": "stream",
     "text": [
      "  20   1.53251938e+11  1.53245550e+11  3.26e-02 2.07e-08  3.90e+01     1s\n"
     ]
    },
    {
     "name": "stderr",
     "output_type": "stream",
     "text": [
      "INFO:gurobipy:  20   1.53251938e+11  1.53245550e+11  3.26e-02 2.07e-08  3.90e+01     1s\n"
     ]
    },
    {
     "name": "stdout",
     "output_type": "stream",
     "text": [
      "  21   1.53249784e+11  1.53247631e+11  1.11e-02 1.13e-08  1.31e+01     1s\n"
     ]
    },
    {
     "name": "stderr",
     "output_type": "stream",
     "text": [
      "INFO:gurobipy:  21   1.53249784e+11  1.53247631e+11  1.11e-02 1.13e-08  1.31e+01     1s\n"
     ]
    },
    {
     "name": "stdout",
     "output_type": "stream",
     "text": [
      "  22   1.53249100e+11  1.53248107e+11  5.04e-03 2.50e-09  6.06e+00     1s\n"
     ]
    },
    {
     "name": "stderr",
     "output_type": "stream",
     "text": [
      "INFO:gurobipy:  22   1.53249100e+11  1.53248107e+11  5.04e-03 2.50e-09  6.06e+00     1s\n"
     ]
    },
    {
     "name": "stdout",
     "output_type": "stream",
     "text": [
      "  23   1.53248724e+11  1.53248275e+11  1.92e-03 5.47e-09  2.73e+00     1s\n"
     ]
    },
    {
     "name": "stderr",
     "output_type": "stream",
     "text": [
      "INFO:gurobipy:  23   1.53248724e+11  1.53248275e+11  1.92e-03 5.47e-09  2.73e+00     1s\n"
     ]
    },
    {
     "name": "stdout",
     "output_type": "stream",
     "text": [
      "  24   1.53248537e+11  1.53248402e+11  4.41e-04 1.12e-08  8.19e-01     1s\n"
     ]
    },
    {
     "name": "stderr",
     "output_type": "stream",
     "text": [
      "INFO:gurobipy:  24   1.53248537e+11  1.53248402e+11  4.41e-04 1.12e-08  8.19e-01     1s\n"
     ]
    },
    {
     "name": "stdout",
     "output_type": "stream",
     "text": [
      "  25   1.53248506e+11  1.53248448e+11  3.32e-04 1.37e-08  3.50e-01     1s\n"
     ]
    },
    {
     "name": "stderr",
     "output_type": "stream",
     "text": [
      "INFO:gurobipy:  25   1.53248506e+11  1.53248448e+11  3.32e-04 1.37e-08  3.50e-01     1s\n"
     ]
    },
    {
     "name": "stdout",
     "output_type": "stream",
     "text": [
      "  26   1.53248492e+11  1.53248461e+11  2.89e-04 1.98e-09  1.90e-01     1s\n"
     ]
    },
    {
     "name": "stderr",
     "output_type": "stream",
     "text": [
      "INFO:gurobipy:  26   1.53248492e+11  1.53248461e+11  2.89e-04 1.98e-09  1.90e-01     1s\n"
     ]
    },
    {
     "name": "stdout",
     "output_type": "stream",
     "text": [
      "  27   1.53248480e+11  1.53248467e+11  1.73e-04 3.38e-09  7.48e-02     1s\n"
     ]
    },
    {
     "name": "stderr",
     "output_type": "stream",
     "text": [
      "INFO:gurobipy:  27   1.53248480e+11  1.53248467e+11  1.73e-04 3.38e-09  7.48e-02     1s\n"
     ]
    },
    {
     "name": "stdout",
     "output_type": "stream",
     "text": [
      "  28   1.53248477e+11  1.53248472e+11  1.15e-04 3.49e-10  3.36e-02     1s\n"
     ]
    },
    {
     "name": "stderr",
     "output_type": "stream",
     "text": [
      "INFO:gurobipy:  28   1.53248477e+11  1.53248472e+11  1.15e-04 3.49e-10  3.36e-02     1s\n"
     ]
    },
    {
     "name": "stdout",
     "output_type": "stream",
     "text": [
      "  29   1.53248476e+11  1.53248474e+11  5.82e-05 6.87e-09  1.08e-02     1s\n"
     ]
    },
    {
     "name": "stderr",
     "output_type": "stream",
     "text": [
      "INFO:gurobipy:  29   1.53248476e+11  1.53248474e+11  5.82e-05 6.87e-09  1.08e-02     1s\n"
     ]
    },
    {
     "name": "stdout",
     "output_type": "stream",
     "text": [
      "  30   1.53248476e+11  1.53248475e+11  1.96e-05 5.70e-09  2.69e-03     1s\n"
     ]
    },
    {
     "name": "stderr",
     "output_type": "stream",
     "text": [
      "INFO:gurobipy:  30   1.53248476e+11  1.53248475e+11  1.96e-05 5.70e-09  2.69e-03     1s\n"
     ]
    },
    {
     "name": "stdout",
     "output_type": "stream",
     "text": [
      "  31   1.53248476e+11  1.53248476e+11  6.52e-06 1.93e-09  7.31e-04     1s\n"
     ]
    },
    {
     "name": "stderr",
     "output_type": "stream",
     "text": [
      "INFO:gurobipy:  31   1.53248476e+11  1.53248476e+11  6.52e-06 1.93e-09  7.31e-04     1s\n"
     ]
    },
    {
     "name": "stdout",
     "output_type": "stream",
     "text": [
      "  32   1.53248476e+11  1.53248476e+11  1.46e-06 7.80e-09  2.80e-04     1s\n"
     ]
    },
    {
     "name": "stderr",
     "output_type": "stream",
     "text": [
      "INFO:gurobipy:  32   1.53248476e+11  1.53248476e+11  1.46e-06 7.80e-09  2.80e-04     1s\n"
     ]
    },
    {
     "name": "stdout",
     "output_type": "stream",
     "text": [
      "  33   1.53248476e+11  1.53248476e+11  1.53e-07 8.87e-08  1.99e-05     1s\n"
     ]
    },
    {
     "name": "stderr",
     "output_type": "stream",
     "text": [
      "INFO:gurobipy:  33   1.53248476e+11  1.53248476e+11  1.53e-07 8.87e-08  1.99e-05     1s\n"
     ]
    },
    {
     "name": "stdout",
     "output_type": "stream",
     "text": [
      "  34   1.53248476e+11  1.53248476e+11  2.12e-08 2.13e-07  6.89e-07     1s\n"
     ]
    },
    {
     "name": "stderr",
     "output_type": "stream",
     "text": [
      "INFO:gurobipy:  34   1.53248476e+11  1.53248476e+11  2.12e-08 2.13e-07  6.89e-07     1s\n"
     ]
    },
    {
     "name": "stdout",
     "output_type": "stream",
     "text": [
      "  35   1.53248476e+11  1.53248476e+11  4.25e-09 1.48e-07  1.81e-09     1s\n"
     ]
    },
    {
     "name": "stderr",
     "output_type": "stream",
     "text": [
      "INFO:gurobipy:  35   1.53248476e+11  1.53248476e+11  4.25e-09 1.48e-07  1.81e-09     1s\n"
     ]
    },
    {
     "name": "stdout",
     "output_type": "stream",
     "text": [
      "\n"
     ]
    },
    {
     "name": "stderr",
     "output_type": "stream",
     "text": [
      "INFO:gurobipy:\n"
     ]
    },
    {
     "name": "stdout",
     "output_type": "stream",
     "text": [
      "Barrier solved model in 35 iterations and 1.23 seconds (1.44 work units)\n"
     ]
    },
    {
     "name": "stderr",
     "output_type": "stream",
     "text": [
      "INFO:gurobipy:Barrier solved model in 35 iterations and 1.23 seconds (1.44 work units)\n"
     ]
    },
    {
     "name": "stdout",
     "output_type": "stream",
     "text": [
      "Optimal objective 1.53248476e+11\n"
     ]
    },
    {
     "name": "stderr",
     "output_type": "stream",
     "text": [
      "INFO:gurobipy:Optimal objective 1.53248476e+11\n"
     ]
    },
    {
     "name": "stdout",
     "output_type": "stream",
     "text": [
      "\n"
     ]
    },
    {
     "name": "stderr",
     "output_type": "stream",
     "text": [
      "INFO:gurobipy:\n"
     ]
    },
    {
     "name": "stdout",
     "output_type": "stream",
     "text": [
      "Crossover log...\n"
     ]
    },
    {
     "name": "stderr",
     "output_type": "stream",
     "text": [
      "INFO:gurobipy:Crossover log...\n"
     ]
    },
    {
     "name": "stdout",
     "output_type": "stream",
     "text": [
      "\n"
     ]
    },
    {
     "name": "stderr",
     "output_type": "stream",
     "text": [
      "INFO:gurobipy:\n"
     ]
    },
    {
     "name": "stdout",
     "output_type": "stream",
     "text": [
      "    2803 DPushes remaining with DInf 0.0000000e+00                 1s\n"
     ]
    },
    {
     "name": "stderr",
     "output_type": "stream",
     "text": [
      "INFO:gurobipy:    2803 DPushes remaining with DInf 0.0000000e+00                 1s\n"
     ]
    },
    {
     "name": "stdout",
     "output_type": "stream",
     "text": [
      "\n"
     ]
    },
    {
     "name": "stderr",
     "output_type": "stream",
     "text": [
      "INFO:gurobipy:\n"
     ]
    },
    {
     "name": "stdout",
     "output_type": "stream",
     "text": [
      "Solved with dual simplex\n"
     ]
    },
    {
     "name": "stderr",
     "output_type": "stream",
     "text": [
      "INFO:gurobipy:Solved with dual simplex\n"
     ]
    },
    {
     "name": "stdout",
     "output_type": "stream",
     "text": [
      "Iteration    Objective       Primal Inf.    Dual Inf.      Time\n"
     ]
    },
    {
     "name": "stderr",
     "output_type": "stream",
     "text": [
      "INFO:gurobipy:Iteration    Objective       Primal Inf.    Dual Inf.      Time\n"
     ]
    },
    {
     "name": "stdout",
     "output_type": "stream",
     "text": [
      "   48692    1.5324848e+11   0.000000e+00   0.000000e+00      1s\n"
     ]
    },
    {
     "name": "stderr",
     "output_type": "stream",
     "text": [
      "INFO:gurobipy:   48692    1.5324848e+11   0.000000e+00   0.000000e+00      1s\n"
     ]
    },
    {
     "name": "stdout",
     "output_type": "stream",
     "text": [
      "\n"
     ]
    },
    {
     "name": "stderr",
     "output_type": "stream",
     "text": [
      "INFO:gurobipy:\n"
     ]
    },
    {
     "name": "stdout",
     "output_type": "stream",
     "text": [
      "Solved in 48692 iterations and 1.30 seconds (1.82 work units)\n"
     ]
    },
    {
     "name": "stderr",
     "output_type": "stream",
     "text": [
      "INFO:gurobipy:Solved in 48692 iterations and 1.30 seconds (1.82 work units)\n"
     ]
    },
    {
     "name": "stdout",
     "output_type": "stream",
     "text": [
      "Optimal objective  1.532484756e+11\n"
     ]
    },
    {
     "name": "stderr",
     "output_type": "stream",
     "text": [
      "INFO:gurobipy:Optimal objective  1.532484756e+11\n",
      "INFO:linopy.constants: Optimization successful: \n",
      "Status: ok\n",
      "Termination condition: optimal\n",
      "Solution: 78628 primals, 192196 duals\n",
      "Objective: 1.53e+11\n",
      "Solver model: available\n",
      "Solver message: 2\n",
      "\n",
      "INFO:pypsa.optimization.optimize:The shadow-prices of the constraints Generator-fix-p-lower, Generator-fix-p-upper, Generator-ext-p-lower, Generator-ext-p-upper, Generator-p_set, Link-fix-p-lower, Link-fix-p-upper, StorageUnit-ext-p_dispatch-lower, StorageUnit-ext-p_dispatch-upper, StorageUnit-ext-p_store-lower, StorageUnit-ext-p_store-upper, StorageUnit-ext-state_of_charge-lower, StorageUnit-ext-state_of_charge-upper, StorageUnit-energy_balance were not assigned to the network.\n",
      "WARNING:pypsa.consistency:Encountered nan's in varying data 'p_set' for columns ['grid_demand'] of component 'Load'.\n",
      "WARNING:pypsa.consistency:Encountered nan's in varying data 'p_set' for columns ['grid_demand'] of component 'Load'.\n"
     ]
    },
    {
     "name": "stdout",
     "output_type": "stream",
     "text": [
      "Running scenario 4...\n"
     ]
    },
    {
     "name": "stderr",
     "output_type": "stream",
     "text": [
      "INFO:linopy.model: Solve problem using Gurobi solver\n"
     ]
    },
    {
     "name": "stdout",
     "output_type": "stream",
     "text": [
      "Set parameter Username\n"
     ]
    },
    {
     "name": "stderr",
     "output_type": "stream",
     "text": [
      "INFO:gurobipy:Set parameter Username\n"
     ]
    },
    {
     "name": "stdout",
     "output_type": "stream",
     "text": [
      "Academic license - for non-commercial use only - expires 2025-06-14\n"
     ]
    },
    {
     "name": "stderr",
     "output_type": "stream",
     "text": [
      "INFO:gurobipy:Academic license - for non-commercial use only - expires 2025-06-14\n",
      "INFO:linopy.io:Writing objective.\n",
      "Writing constraints.: 100%|\u001b[38;2;128;191;255m██████████\u001b[0m| 19/19 [00:00<00:00, 48.55it/s]\n",
      "Writing continuous variables.: 100%|\u001b[38;2;128;191;255m██████████\u001b[0m| 7/7 [00:00<00:00, 98.87it/s]\n",
      "INFO:linopy.io: Writing time: 0.49s\n"
     ]
    },
    {
     "name": "stdout",
     "output_type": "stream",
     "text": [
      "Read LP format model from file /private/var/folders/19/15zhn_ps157bgm3p882t881h0000gn/T/linopy-problem-gertaa2r.lp\n"
     ]
    },
    {
     "name": "stderr",
     "output_type": "stream",
     "text": [
      "INFO:gurobipy:Read LP format model from file /private/var/folders/19/15zhn_ps157bgm3p882t881h0000gn/T/linopy-problem-gertaa2r.lp\n"
     ]
    },
    {
     "name": "stdout",
     "output_type": "stream",
     "text": [
      "Reading time = 0.19 seconds\n"
     ]
    },
    {
     "name": "stderr",
     "output_type": "stream",
     "text": [
      "INFO:gurobipy:Reading time = 0.19 seconds\n"
     ]
    },
    {
     "name": "stdout",
     "output_type": "stream",
     "text": [
      "obj: 192196 rows, 78628 columns, 340708 nonzeros\n"
     ]
    },
    {
     "name": "stderr",
     "output_type": "stream",
     "text": [
      "INFO:gurobipy:obj: 192196 rows, 78628 columns, 340708 nonzeros\n"
     ]
    },
    {
     "name": "stdout",
     "output_type": "stream",
     "text": [
      "Gurobi Optimizer version 11.0.2 build v11.0.2rc0 (mac64[arm] - Darwin 23.5.0 23F79)\n"
     ]
    },
    {
     "name": "stderr",
     "output_type": "stream",
     "text": [
      "INFO:gurobipy:Gurobi Optimizer version 11.0.2 build v11.0.2rc0 (mac64[arm] - Darwin 23.5.0 23F79)\n"
     ]
    },
    {
     "name": "stdout",
     "output_type": "stream",
     "text": [
      "\n"
     ]
    },
    {
     "name": "stderr",
     "output_type": "stream",
     "text": [
      "INFO:gurobipy:\n"
     ]
    },
    {
     "name": "stdout",
     "output_type": "stream",
     "text": [
      "CPU model: Apple M2\n"
     ]
    },
    {
     "name": "stderr",
     "output_type": "stream",
     "text": [
      "INFO:gurobipy:CPU model: Apple M2\n"
     ]
    },
    {
     "name": "stdout",
     "output_type": "stream",
     "text": [
      "Thread count: 8 physical cores, 8 logical processors, using up to 8 threads\n"
     ]
    },
    {
     "name": "stderr",
     "output_type": "stream",
     "text": [
      "INFO:gurobipy:Thread count: 8 physical cores, 8 logical processors, using up to 8 threads\n"
     ]
    },
    {
     "name": "stdout",
     "output_type": "stream",
     "text": [
      "\n"
     ]
    },
    {
     "name": "stderr",
     "output_type": "stream",
     "text": [
      "INFO:gurobipy:\n"
     ]
    },
    {
     "name": "stdout",
     "output_type": "stream",
     "text": [
      "Optimize a model with 192196 rows, 78628 columns and 340708 nonzeros\n"
     ]
    },
    {
     "name": "stderr",
     "output_type": "stream",
     "text": [
      "INFO:gurobipy:Optimize a model with 192196 rows, 78628 columns and 340708 nonzeros\n"
     ]
    },
    {
     "name": "stdout",
     "output_type": "stream",
     "text": [
      "Model fingerprint: 0x19a64d4d\n"
     ]
    },
    {
     "name": "stderr",
     "output_type": "stream",
     "text": [
      "INFO:gurobipy:Model fingerprint: 0x19a64d4d\n"
     ]
    },
    {
     "name": "stdout",
     "output_type": "stream",
     "text": [
      "Coefficient statistics:\n"
     ]
    },
    {
     "name": "stderr",
     "output_type": "stream",
     "text": [
      "INFO:gurobipy:Coefficient statistics:\n"
     ]
    },
    {
     "name": "stdout",
     "output_type": "stream",
     "text": [
      "  Matrix range     [8e-01, 2e+00]\n"
     ]
    },
    {
     "name": "stderr",
     "output_type": "stream",
     "text": [
      "INFO:gurobipy:  Matrix range     [8e-01, 2e+00]\n"
     ]
    },
    {
     "name": "stdout",
     "output_type": "stream",
     "text": [
      "  Objective range  [9e-03, 2e+06]\n"
     ]
    },
    {
     "name": "stderr",
     "output_type": "stream",
     "text": [
      "INFO:gurobipy:  Objective range  [9e-03, 2e+06]\n"
     ]
    },
    {
     "name": "stdout",
     "output_type": "stream",
     "text": [
      "  Bounds range     [0e+00, 0e+00]\n"
     ]
    },
    {
     "name": "stderr",
     "output_type": "stream",
     "text": [
      "INFO:gurobipy:  Bounds range     [0e+00, 0e+00]\n"
     ]
    },
    {
     "name": "stdout",
     "output_type": "stream",
     "text": [
      "  RHS range        [1e-03, 9e+04]\n"
     ]
    },
    {
     "name": "stderr",
     "output_type": "stream",
     "text": [
      "INFO:gurobipy:  RHS range        [1e-03, 9e+04]\n"
     ]
    },
    {
     "name": "stdout",
     "output_type": "stream",
     "text": [
      "Presolve removed 113578 rows and 8742 columns\n"
     ]
    },
    {
     "name": "stderr",
     "output_type": "stream",
     "text": [
      "INFO:gurobipy:Presolve removed 113578 rows and 8742 columns\n"
     ]
    },
    {
     "name": "stdout",
     "output_type": "stream",
     "text": [
      "Presolve time: 0.11s\n"
     ]
    },
    {
     "name": "stderr",
     "output_type": "stream",
     "text": [
      "INFO:gurobipy:Presolve time: 0.11s\n"
     ]
    },
    {
     "name": "stdout",
     "output_type": "stream",
     "text": [
      "Presolved: 78618 rows, 69886 columns, 218394 nonzeros\n"
     ]
    },
    {
     "name": "stderr",
     "output_type": "stream",
     "text": [
      "INFO:gurobipy:Presolved: 78618 rows, 69886 columns, 218394 nonzeros\n"
     ]
    },
    {
     "name": "stdout",
     "output_type": "stream",
     "text": [
      "\n"
     ]
    },
    {
     "name": "stderr",
     "output_type": "stream",
     "text": [
      "INFO:gurobipy:\n"
     ]
    },
    {
     "name": "stdout",
     "output_type": "stream",
     "text": [
      "Concurrent LP optimizer: primal simplex, dual simplex, and barrier\n"
     ]
    },
    {
     "name": "stderr",
     "output_type": "stream",
     "text": [
      "INFO:gurobipy:Concurrent LP optimizer: primal simplex, dual simplex, and barrier\n"
     ]
    },
    {
     "name": "stdout",
     "output_type": "stream",
     "text": [
      "Showing barrier log only...\n"
     ]
    },
    {
     "name": "stderr",
     "output_type": "stream",
     "text": [
      "INFO:gurobipy:Showing barrier log only...\n"
     ]
    },
    {
     "name": "stdout",
     "output_type": "stream",
     "text": [
      "\n"
     ]
    },
    {
     "name": "stderr",
     "output_type": "stream",
     "text": [
      "INFO:gurobipy:\n"
     ]
    },
    {
     "name": "stdout",
     "output_type": "stream",
     "text": [
      "Ordering time: 0.02s\n"
     ]
    },
    {
     "name": "stderr",
     "output_type": "stream",
     "text": [
      "INFO:gurobipy:Ordering time: 0.02s\n"
     ]
    },
    {
     "name": "stdout",
     "output_type": "stream",
     "text": [
      "\n"
     ]
    },
    {
     "name": "stderr",
     "output_type": "stream",
     "text": [
      "INFO:gurobipy:\n"
     ]
    },
    {
     "name": "stdout",
     "output_type": "stream",
     "text": [
      "Barrier statistics:\n"
     ]
    },
    {
     "name": "stderr",
     "output_type": "stream",
     "text": [
      "INFO:gurobipy:Barrier statistics:\n"
     ]
    },
    {
     "name": "stdout",
     "output_type": "stream",
     "text": [
      " Dense cols : 4\n"
     ]
    },
    {
     "name": "stderr",
     "output_type": "stream",
     "text": [
      "INFO:gurobipy: Dense cols : 4\n"
     ]
    },
    {
     "name": "stdout",
     "output_type": "stream",
     "text": [
      " AA' NZ     : 1.572e+05\n"
     ]
    },
    {
     "name": "stderr",
     "output_type": "stream",
     "text": [
      "INFO:gurobipy: AA' NZ     : 1.572e+05\n"
     ]
    },
    {
     "name": "stdout",
     "output_type": "stream",
     "text": [
      " Factor NZ  : 8.648e+05 (roughly 70 MB of memory)\n"
     ]
    },
    {
     "name": "stderr",
     "output_type": "stream",
     "text": [
      "INFO:gurobipy: Factor NZ  : 8.648e+05 (roughly 70 MB of memory)\n"
     ]
    },
    {
     "name": "stdout",
     "output_type": "stream",
     "text": [
      " Factor Ops : 1.004e+07 (less than 1 second per iteration)\n"
     ]
    },
    {
     "name": "stderr",
     "output_type": "stream",
     "text": [
      "INFO:gurobipy: Factor Ops : 1.004e+07 (less than 1 second per iteration)\n"
     ]
    },
    {
     "name": "stdout",
     "output_type": "stream",
     "text": [
      " Threads    : 1\n"
     ]
    },
    {
     "name": "stderr",
     "output_type": "stream",
     "text": [
      "INFO:gurobipy: Threads    : 1\n"
     ]
    },
    {
     "name": "stdout",
     "output_type": "stream",
     "text": [
      "\n"
     ]
    },
    {
     "name": "stderr",
     "output_type": "stream",
     "text": [
      "INFO:gurobipy:\n"
     ]
    },
    {
     "name": "stdout",
     "output_type": "stream",
     "text": [
      "                  Objective                Residual\n"
     ]
    },
    {
     "name": "stderr",
     "output_type": "stream",
     "text": [
      "INFO:gurobipy:                  Objective                Residual\n"
     ]
    },
    {
     "name": "stdout",
     "output_type": "stream",
     "text": [
      "Iter       Primal          Dual         Primal    Dual     Compl     Time\n"
     ]
    },
    {
     "name": "stderr",
     "output_type": "stream",
     "text": [
      "INFO:gurobipy:Iter       Primal          Dual         Primal    Dual     Compl     Time\n"
     ]
    },
    {
     "name": "stdout",
     "output_type": "stream",
     "text": [
      "   0   3.48287840e+11 -1.83816140e+10  1.28e+05 2.80e+01  4.47e+08     0s\n"
     ]
    },
    {
     "name": "stderr",
     "output_type": "stream",
     "text": [
      "INFO:gurobipy:   0   3.48287840e+11 -1.83816140e+10  1.28e+05 2.80e+01  4.47e+08     0s\n"
     ]
    },
    {
     "name": "stdout",
     "output_type": "stream",
     "text": [
      "   1   4.74737910e+11 -1.43724321e+12  3.10e+04 1.05e+03  8.15e+07     0s\n"
     ]
    },
    {
     "name": "stderr",
     "output_type": "stream",
     "text": [
      "INFO:gurobipy:   1   4.74737910e+11 -1.43724321e+12  3.10e+04 1.05e+03  8.15e+07     0s\n"
     ]
    },
    {
     "name": "stdout",
     "output_type": "stream",
     "text": [
      "   2   3.97405630e+11 -3.28745797e+11  2.13e+03 4.10e+01  8.01e+06     0s\n"
     ]
    },
    {
     "name": "stderr",
     "output_type": "stream",
     "text": [
      "INFO:gurobipy:   2   3.97405630e+11 -3.28745797e+11  2.13e+03 4.10e+01  8.01e+06     0s\n"
     ]
    },
    {
     "name": "stdout",
     "output_type": "stream",
     "text": [
      "   3   2.18141293e+11  6.56603220e+10  5.63e+02 1.02e+00  1.53e+06     0s\n"
     ]
    },
    {
     "name": "stderr",
     "output_type": "stream",
     "text": [
      "INFO:gurobipy:   3   2.18141293e+11  6.56603220e+10  5.63e+02 1.02e+00  1.53e+06     0s\n"
     ]
    },
    {
     "name": "stdout",
     "output_type": "stream",
     "text": [
      "   4   1.99099718e+11  9.30041893e+10  4.53e+02 2.68e-09  1.02e+06     0s\n"
     ]
    },
    {
     "name": "stderr",
     "output_type": "stream",
     "text": [
      "INFO:gurobipy:   4   1.99099718e+11  9.30041893e+10  4.53e+02 2.68e-09  1.02e+06     0s\n"
     ]
    },
    {
     "name": "stdout",
     "output_type": "stream",
     "text": [
      "   5   1.89303193e+11  9.72640441e+10  3.89e+02 4.77e-09  8.71e+05     0s\n"
     ]
    },
    {
     "name": "stderr",
     "output_type": "stream",
     "text": [
      "INFO:gurobipy:   5   1.89303193e+11  9.72640441e+10  3.89e+02 4.77e-09  8.71e+05     0s\n"
     ]
    },
    {
     "name": "stdout",
     "output_type": "stream",
     "text": [
      "   6   1.87603915e+11  1.02547642e+11  3.82e+02 6.40e-09  8.12e+05     0s\n"
     ]
    },
    {
     "name": "stderr",
     "output_type": "stream",
     "text": [
      "INFO:gurobipy:   6   1.87603915e+11  1.02547642e+11  3.82e+02 6.40e-09  8.12e+05     0s\n"
     ]
    },
    {
     "name": "stdout",
     "output_type": "stream",
     "text": [
      "   7   1.82357338e+11  1.19432511e+11  3.15e+02 8.60e-08  6.01e+05     0s\n"
     ]
    },
    {
     "name": "stderr",
     "output_type": "stream",
     "text": [
      "INFO:gurobipy:   7   1.82357338e+11  1.19432511e+11  3.15e+02 8.60e-08  6.01e+05     0s\n"
     ]
    },
    {
     "name": "stdout",
     "output_type": "stream",
     "text": [
      "   8   1.61667002e+11  1.38993683e+11  8.37e+01 1.83e-07  1.78e+05     1s\n"
     ]
    },
    {
     "name": "stderr",
     "output_type": "stream",
     "text": [
      "INFO:gurobipy:   8   1.61667002e+11  1.38993683e+11  8.37e+01 1.83e-07  1.78e+05     1s\n"
     ]
    },
    {
     "name": "stdout",
     "output_type": "stream",
     "text": [
      "   9   1.57427384e+11  1.45449013e+11  4.27e+01 1.90e-07  8.52e+04     1s\n"
     ]
    },
    {
     "name": "stderr",
     "output_type": "stream",
     "text": [
      "INFO:gurobipy:   9   1.57427384e+11  1.45449013e+11  4.27e+01 1.90e-07  8.52e+04     1s\n"
     ]
    },
    {
     "name": "stdout",
     "output_type": "stream",
     "text": [
      "  10   1.55560874e+11  1.48186815e+11  2.52e+01 2.91e-07  4.97e+04     1s\n"
     ]
    },
    {
     "name": "stderr",
     "output_type": "stream",
     "text": [
      "INFO:gurobipy:  10   1.55560874e+11  1.48186815e+11  2.52e+01 2.91e-07  4.97e+04     1s\n"
     ]
    },
    {
     "name": "stdout",
     "output_type": "stream",
     "text": [
      "  11   1.54494850e+11  1.51223688e+11  1.56e+01 9.09e-07  2.10e+04     1s\n"
     ]
    },
    {
     "name": "stderr",
     "output_type": "stream",
     "text": [
      "INFO:gurobipy:  11   1.54494850e+11  1.51223688e+11  1.56e+01 9.09e-07  2.10e+04     1s\n"
     ]
    },
    {
     "name": "stdout",
     "output_type": "stream",
     "text": [
      "  12   1.53641432e+11  1.51999324e+11  8.31e+00 9.09e-07  1.03e+04     1s\n"
     ]
    },
    {
     "name": "stderr",
     "output_type": "stream",
     "text": [
      "INFO:gurobipy:  12   1.53641432e+11  1.51999324e+11  8.31e+00 9.09e-07  1.03e+04     1s\n"
     ]
    },
    {
     "name": "stdout",
     "output_type": "stream",
     "text": [
      "  13   1.53324207e+11  1.52159640e+11  5.67e+00 9.01e-07  7.23e+03     1s\n"
     ]
    },
    {
     "name": "stderr",
     "output_type": "stream",
     "text": [
      "INFO:gurobipy:  13   1.53324207e+11  1.52159640e+11  5.67e+00 9.01e-07  7.23e+03     1s\n"
     ]
    },
    {
     "name": "stdout",
     "output_type": "stream",
     "text": [
      "\n"
     ]
    },
    {
     "name": "stderr",
     "output_type": "stream",
     "text": [
      "INFO:gurobipy:\n"
     ]
    },
    {
     "name": "stdout",
     "output_type": "stream",
     "text": [
      "Barrier performed 13 iterations in 0.68 seconds (0.68 work units)\n"
     ]
    },
    {
     "name": "stderr",
     "output_type": "stream",
     "text": [
      "INFO:gurobipy:Barrier performed 13 iterations in 0.68 seconds (0.68 work units)\n"
     ]
    },
    {
     "name": "stdout",
     "output_type": "stream",
     "text": [
      "Barrier solve interrupted - model solved by another algorithm\n"
     ]
    },
    {
     "name": "stderr",
     "output_type": "stream",
     "text": [
      "INFO:gurobipy:Barrier solve interrupted - model solved by another algorithm\n"
     ]
    },
    {
     "name": "stdout",
     "output_type": "stream",
     "text": [
      "\n"
     ]
    },
    {
     "name": "stderr",
     "output_type": "stream",
     "text": [
      "INFO:gurobipy:\n"
     ]
    },
    {
     "name": "stdout",
     "output_type": "stream",
     "text": [
      "\n"
     ]
    },
    {
     "name": "stderr",
     "output_type": "stream",
     "text": [
      "INFO:gurobipy:\n"
     ]
    },
    {
     "name": "stdout",
     "output_type": "stream",
     "text": [
      "Solved with dual simplex\n"
     ]
    },
    {
     "name": "stderr",
     "output_type": "stream",
     "text": [
      "INFO:gurobipy:Solved with dual simplex\n"
     ]
    },
    {
     "name": "stdout",
     "output_type": "stream",
     "text": [
      "Iteration    Objective       Primal Inf.    Dual Inf.      Time\n"
     ]
    },
    {
     "name": "stderr",
     "output_type": "stream",
     "text": [
      "INFO:gurobipy:Iteration    Objective       Primal Inf.    Dual Inf.      Time\n"
     ]
    },
    {
     "name": "stdout",
     "output_type": "stream",
     "text": [
      "   44163    1.5262409e+11   0.000000e+00   0.000000e+00      1s\n"
     ]
    },
    {
     "name": "stderr",
     "output_type": "stream",
     "text": [
      "INFO:gurobipy:   44163    1.5262409e+11   0.000000e+00   0.000000e+00      1s\n"
     ]
    },
    {
     "name": "stdout",
     "output_type": "stream",
     "text": [
      "\n"
     ]
    },
    {
     "name": "stderr",
     "output_type": "stream",
     "text": [
      "INFO:gurobipy:\n"
     ]
    },
    {
     "name": "stdout",
     "output_type": "stream",
     "text": [
      "Solved in 44163 iterations and 0.72 seconds (0.84 work units)\n"
     ]
    },
    {
     "name": "stderr",
     "output_type": "stream",
     "text": [
      "INFO:gurobipy:Solved in 44163 iterations and 0.72 seconds (0.84 work units)\n"
     ]
    },
    {
     "name": "stdout",
     "output_type": "stream",
     "text": [
      "Optimal objective  1.526240852e+11\n"
     ]
    },
    {
     "name": "stderr",
     "output_type": "stream",
     "text": [
      "INFO:gurobipy:Optimal objective  1.526240852e+11\n",
      "INFO:linopy.constants: Optimization successful: \n",
      "Status: ok\n",
      "Termination condition: optimal\n",
      "Solution: 78628 primals, 192196 duals\n",
      "Objective: 1.53e+11\n",
      "Solver model: available\n",
      "Solver message: 2\n",
      "\n",
      "INFO:pypsa.optimization.optimize:The shadow-prices of the constraints Generator-fix-p-lower, Generator-fix-p-upper, Generator-ext-p-lower, Generator-ext-p-upper, Generator-p_set, Link-fix-p-lower, Link-fix-p-upper, StorageUnit-ext-p_dispatch-lower, StorageUnit-ext-p_dispatch-upper, StorageUnit-ext-p_store-lower, StorageUnit-ext-p_store-upper, StorageUnit-ext-state_of_charge-lower, StorageUnit-ext-state_of_charge-upper, StorageUnit-energy_balance were not assigned to the network.\n"
     ]
    },
    {
     "name": "stdout",
     "output_type": "stream",
     "text": [
      "Running scenario 5...\n"
     ]
    },
    {
     "name": "stderr",
     "output_type": "stream",
     "text": [
      "WARNING:pypsa.consistency:Encountered nan's in varying data 'p_set' for columns ['grid_demand'] of component 'Load'.\n",
      "WARNING:pypsa.consistency:Encountered nan's in varying data 'p_set' for columns ['grid_demand'] of component 'Load'.\n",
      "INFO:linopy.model: Solve problem using Gurobi solver\n"
     ]
    },
    {
     "name": "stdout",
     "output_type": "stream",
     "text": [
      "Set parameter Username\n"
     ]
    },
    {
     "name": "stderr",
     "output_type": "stream",
     "text": [
      "INFO:gurobipy:Set parameter Username\n"
     ]
    },
    {
     "name": "stdout",
     "output_type": "stream",
     "text": [
      "Academic license - for non-commercial use only - expires 2025-06-14\n"
     ]
    },
    {
     "name": "stderr",
     "output_type": "stream",
     "text": [
      "INFO:gurobipy:Academic license - for non-commercial use only - expires 2025-06-14\n",
      "INFO:linopy.io:Writing objective.\n",
      "Writing constraints.: 100%|\u001b[38;2;128;191;255m██████████\u001b[0m| 19/19 [00:00<00:00, 32.85it/s]\n",
      "Writing continuous variables.: 100%|\u001b[38;2;128;191;255m██████████\u001b[0m| 7/7 [00:00<00:00, 96.69it/s]\n",
      "INFO:linopy.io: Writing time: 0.68s\n"
     ]
    },
    {
     "name": "stdout",
     "output_type": "stream",
     "text": [
      "Read LP format model from file /private/var/folders/19/15zhn_ps157bgm3p882t881h0000gn/T/linopy-problem-gv91ypx7.lp\n"
     ]
    },
    {
     "name": "stderr",
     "output_type": "stream",
     "text": [
      "INFO:gurobipy:Read LP format model from file /private/var/folders/19/15zhn_ps157bgm3p882t881h0000gn/T/linopy-problem-gv91ypx7.lp\n"
     ]
    },
    {
     "name": "stdout",
     "output_type": "stream",
     "text": [
      "Reading time = 0.19 seconds\n"
     ]
    },
    {
     "name": "stderr",
     "output_type": "stream",
     "text": [
      "INFO:gurobipy:Reading time = 0.19 seconds\n"
     ]
    },
    {
     "name": "stdout",
     "output_type": "stream",
     "text": [
      "obj: 192196 rows, 78628 columns, 340708 nonzeros\n"
     ]
    },
    {
     "name": "stderr",
     "output_type": "stream",
     "text": [
      "INFO:gurobipy:obj: 192196 rows, 78628 columns, 340708 nonzeros\n"
     ]
    },
    {
     "name": "stdout",
     "output_type": "stream",
     "text": [
      "Gurobi Optimizer version 11.0.2 build v11.0.2rc0 (mac64[arm] - Darwin 23.5.0 23F79)\n"
     ]
    },
    {
     "name": "stderr",
     "output_type": "stream",
     "text": [
      "INFO:gurobipy:Gurobi Optimizer version 11.0.2 build v11.0.2rc0 (mac64[arm] - Darwin 23.5.0 23F79)\n"
     ]
    },
    {
     "name": "stdout",
     "output_type": "stream",
     "text": [
      "\n"
     ]
    },
    {
     "name": "stderr",
     "output_type": "stream",
     "text": [
      "INFO:gurobipy:\n"
     ]
    },
    {
     "name": "stdout",
     "output_type": "stream",
     "text": [
      "CPU model: Apple M2\n"
     ]
    },
    {
     "name": "stderr",
     "output_type": "stream",
     "text": [
      "INFO:gurobipy:CPU model: Apple M2\n"
     ]
    },
    {
     "name": "stdout",
     "output_type": "stream",
     "text": [
      "Thread count: 8 physical cores, 8 logical processors, using up to 8 threads\n"
     ]
    },
    {
     "name": "stderr",
     "output_type": "stream",
     "text": [
      "INFO:gurobipy:Thread count: 8 physical cores, 8 logical processors, using up to 8 threads\n"
     ]
    },
    {
     "name": "stdout",
     "output_type": "stream",
     "text": [
      "\n"
     ]
    },
    {
     "name": "stderr",
     "output_type": "stream",
     "text": [
      "INFO:gurobipy:\n"
     ]
    },
    {
     "name": "stdout",
     "output_type": "stream",
     "text": [
      "Optimize a model with 192196 rows, 78628 columns and 340708 nonzeros\n"
     ]
    },
    {
     "name": "stderr",
     "output_type": "stream",
     "text": [
      "INFO:gurobipy:Optimize a model with 192196 rows, 78628 columns and 340708 nonzeros\n"
     ]
    },
    {
     "name": "stdout",
     "output_type": "stream",
     "text": [
      "Model fingerprint: 0x76863201\n"
     ]
    },
    {
     "name": "stderr",
     "output_type": "stream",
     "text": [
      "INFO:gurobipy:Model fingerprint: 0x76863201\n"
     ]
    },
    {
     "name": "stdout",
     "output_type": "stream",
     "text": [
      "Coefficient statistics:\n"
     ]
    },
    {
     "name": "stderr",
     "output_type": "stream",
     "text": [
      "INFO:gurobipy:Coefficient statistics:\n"
     ]
    },
    {
     "name": "stdout",
     "output_type": "stream",
     "text": [
      "  Matrix range     [8e-01, 2e+00]\n"
     ]
    },
    {
     "name": "stderr",
     "output_type": "stream",
     "text": [
      "INFO:gurobipy:  Matrix range     [8e-01, 2e+00]\n"
     ]
    },
    {
     "name": "stdout",
     "output_type": "stream",
     "text": [
      "  Objective range  [8e-03, 2e+06]\n"
     ]
    },
    {
     "name": "stderr",
     "output_type": "stream",
     "text": [
      "INFO:gurobipy:  Objective range  [8e-03, 2e+06]\n"
     ]
    },
    {
     "name": "stdout",
     "output_type": "stream",
     "text": [
      "  Bounds range     [0e+00, 0e+00]\n"
     ]
    },
    {
     "name": "stderr",
     "output_type": "stream",
     "text": [
      "INFO:gurobipy:  Bounds range     [0e+00, 0e+00]\n"
     ]
    },
    {
     "name": "stdout",
     "output_type": "stream",
     "text": [
      "  RHS range        [1e-03, 9e+04]\n"
     ]
    },
    {
     "name": "stderr",
     "output_type": "stream",
     "text": [
      "INFO:gurobipy:  RHS range        [1e-03, 9e+04]\n"
     ]
    },
    {
     "name": "stdout",
     "output_type": "stream",
     "text": [
      "Presolve removed 113578 rows and 8742 columns\n"
     ]
    },
    {
     "name": "stderr",
     "output_type": "stream",
     "text": [
      "INFO:gurobipy:Presolve removed 113578 rows and 8742 columns\n"
     ]
    },
    {
     "name": "stdout",
     "output_type": "stream",
     "text": [
      "Presolve time: 0.10s\n"
     ]
    },
    {
     "name": "stderr",
     "output_type": "stream",
     "text": [
      "INFO:gurobipy:Presolve time: 0.10s\n"
     ]
    },
    {
     "name": "stdout",
     "output_type": "stream",
     "text": [
      "Presolved: 78618 rows, 69886 columns, 218394 nonzeros\n"
     ]
    },
    {
     "name": "stderr",
     "output_type": "stream",
     "text": [
      "INFO:gurobipy:Presolved: 78618 rows, 69886 columns, 218394 nonzeros\n"
     ]
    },
    {
     "name": "stdout",
     "output_type": "stream",
     "text": [
      "\n"
     ]
    },
    {
     "name": "stderr",
     "output_type": "stream",
     "text": [
      "INFO:gurobipy:\n"
     ]
    },
    {
     "name": "stdout",
     "output_type": "stream",
     "text": [
      "Concurrent LP optimizer: primal simplex, dual simplex, and barrier\n"
     ]
    },
    {
     "name": "stderr",
     "output_type": "stream",
     "text": [
      "INFO:gurobipy:Concurrent LP optimizer: primal simplex, dual simplex, and barrier\n"
     ]
    },
    {
     "name": "stdout",
     "output_type": "stream",
     "text": [
      "Showing barrier log only...\n"
     ]
    },
    {
     "name": "stderr",
     "output_type": "stream",
     "text": [
      "INFO:gurobipy:Showing barrier log only...\n"
     ]
    },
    {
     "name": "stdout",
     "output_type": "stream",
     "text": [
      "\n"
     ]
    },
    {
     "name": "stderr",
     "output_type": "stream",
     "text": [
      "INFO:gurobipy:\n"
     ]
    },
    {
     "name": "stdout",
     "output_type": "stream",
     "text": [
      "Ordering time: 0.03s\n"
     ]
    },
    {
     "name": "stderr",
     "output_type": "stream",
     "text": [
      "INFO:gurobipy:Ordering time: 0.03s\n"
     ]
    },
    {
     "name": "stdout",
     "output_type": "stream",
     "text": [
      "\n"
     ]
    },
    {
     "name": "stderr",
     "output_type": "stream",
     "text": [
      "INFO:gurobipy:\n"
     ]
    },
    {
     "name": "stdout",
     "output_type": "stream",
     "text": [
      "Barrier statistics:\n"
     ]
    },
    {
     "name": "stderr",
     "output_type": "stream",
     "text": [
      "INFO:gurobipy:Barrier statistics:\n"
     ]
    },
    {
     "name": "stdout",
     "output_type": "stream",
     "text": [
      " Dense cols : 4\n"
     ]
    },
    {
     "name": "stderr",
     "output_type": "stream",
     "text": [
      "INFO:gurobipy: Dense cols : 4\n"
     ]
    },
    {
     "name": "stdout",
     "output_type": "stream",
     "text": [
      " AA' NZ     : 1.572e+05\n"
     ]
    },
    {
     "name": "stderr",
     "output_type": "stream",
     "text": [
      "INFO:gurobipy: AA' NZ     : 1.572e+05\n"
     ]
    },
    {
     "name": "stdout",
     "output_type": "stream",
     "text": [
      " Factor NZ  : 8.648e+05 (roughly 70 MB of memory)\n"
     ]
    },
    {
     "name": "stderr",
     "output_type": "stream",
     "text": [
      "INFO:gurobipy: Factor NZ  : 8.648e+05 (roughly 70 MB of memory)\n"
     ]
    },
    {
     "name": "stdout",
     "output_type": "stream",
     "text": [
      " Factor Ops : 1.004e+07 (less than 1 second per iteration)\n"
     ]
    },
    {
     "name": "stderr",
     "output_type": "stream",
     "text": [
      "INFO:gurobipy: Factor Ops : 1.004e+07 (less than 1 second per iteration)\n"
     ]
    },
    {
     "name": "stdout",
     "output_type": "stream",
     "text": [
      " Threads    : 1\n"
     ]
    },
    {
     "name": "stderr",
     "output_type": "stream",
     "text": [
      "INFO:gurobipy: Threads    : 1\n"
     ]
    },
    {
     "name": "stdout",
     "output_type": "stream",
     "text": [
      "\n"
     ]
    },
    {
     "name": "stderr",
     "output_type": "stream",
     "text": [
      "INFO:gurobipy:\n"
     ]
    },
    {
     "name": "stdout",
     "output_type": "stream",
     "text": [
      "                  Objective                Residual\n"
     ]
    },
    {
     "name": "stderr",
     "output_type": "stream",
     "text": [
      "INFO:gurobipy:                  Objective                Residual\n"
     ]
    },
    {
     "name": "stdout",
     "output_type": "stream",
     "text": [
      "Iter       Primal          Dual         Primal    Dual     Compl     Time\n"
     ]
    },
    {
     "name": "stderr",
     "output_type": "stream",
     "text": [
      "INFO:gurobipy:Iter       Primal          Dual         Primal    Dual     Compl     Time\n"
     ]
    },
    {
     "name": "stdout",
     "output_type": "stream",
     "text": [
      "   0   3.45049820e+11 -1.77748912e+10  1.30e+05 2.58e+01  4.36e+08     0s\n"
     ]
    },
    {
     "name": "stderr",
     "output_type": "stream",
     "text": [
      "INFO:gurobipy:   0   3.45049820e+11 -1.77748912e+10  1.30e+05 2.58e+01  4.36e+08     0s\n"
     ]
    },
    {
     "name": "stdout",
     "output_type": "stream",
     "text": [
      "   1   4.77842753e+11 -1.38920895e+12  3.15e+04 1.04e+03  8.05e+07     0s\n"
     ]
    },
    {
     "name": "stderr",
     "output_type": "stream",
     "text": [
      "INFO:gurobipy:   1   4.77842753e+11 -1.38920895e+12  3.15e+04 1.04e+03  8.05e+07     0s\n"
     ]
    },
    {
     "name": "stdout",
     "output_type": "stream",
     "text": [
      "   2   3.99612631e+11 -3.23281020e+11  2.21e+03 3.88e+01  7.96e+06     0s\n"
     ]
    },
    {
     "name": "stderr",
     "output_type": "stream",
     "text": [
      "INFO:gurobipy:   2   3.99612631e+11 -3.23281020e+11  2.21e+03 3.88e+01  7.96e+06     0s\n"
     ]
    },
    {
     "name": "stdout",
     "output_type": "stream",
     "text": [
      "   3   2.14905993e+11  6.61909097e+10  5.65e+02 9.07e-01  1.49e+06     0s\n"
     ]
    },
    {
     "name": "stderr",
     "output_type": "stream",
     "text": [
      "INFO:gurobipy:   3   2.14905993e+11  6.61909097e+10  5.65e+02 9.07e-01  1.49e+06     0s\n"
     ]
    },
    {
     "name": "stdout",
     "output_type": "stream",
     "text": [
      "   4   1.98847040e+11  9.51642151e+10  4.69e+02 1.42e-08  1.00e+06     0s\n"
     ]
    },
    {
     "name": "stderr",
     "output_type": "stream",
     "text": [
      "INFO:gurobipy:   4   1.98847040e+11  9.51642151e+10  4.69e+02 1.42e-08  1.00e+06     0s\n"
     ]
    },
    {
     "name": "stdout",
     "output_type": "stream",
     "text": [
      "   5   1.88315703e+11  9.76282177e+10  3.97e+02 1.30e-08  8.59e+05     0s\n"
     ]
    },
    {
     "name": "stderr",
     "output_type": "stream",
     "text": [
      "INFO:gurobipy:   5   1.88315703e+11  9.76282177e+10  3.97e+02 1.30e-08  8.59e+05     0s\n"
     ]
    },
    {
     "name": "stdout",
     "output_type": "stream",
     "text": [
      "   6   1.87097786e+11  1.12440021e+11  3.85e+02 7.22e-09  7.23e+05     0s\n"
     ]
    },
    {
     "name": "stderr",
     "output_type": "stream",
     "text": [
      "INFO:gurobipy:   6   1.87097786e+11  1.12440021e+11  3.85e+02 7.22e-09  7.23e+05     0s\n"
     ]
    },
    {
     "name": "stdout",
     "output_type": "stream",
     "text": [
      "   7   1.72184261e+11  1.34146141e+11  2.20e+02 1.07e-08  3.51e+05     1s\n"
     ]
    },
    {
     "name": "stderr",
     "output_type": "stream",
     "text": [
      "INFO:gurobipy:   7   1.72184261e+11  1.34146141e+11  2.20e+02 1.07e-08  3.51e+05     1s\n"
     ]
    },
    {
     "name": "stdout",
     "output_type": "stream",
     "text": [
      "   8   1.58977785e+11  1.44207038e+11  6.70e+01 2.75e-05  1.13e+05     1s\n"
     ]
    },
    {
     "name": "stderr",
     "output_type": "stream",
     "text": [
      "INFO:gurobipy:   8   1.58977785e+11  1.44207038e+11  6.70e+01 2.75e-05  1.13e+05     1s\n"
     ]
    },
    {
     "name": "stdout",
     "output_type": "stream",
     "text": [
      "   9   1.55827857e+11  1.49162366e+11  3.50e+01 3.02e-05  4.59e+04     1s\n"
     ]
    },
    {
     "name": "stderr",
     "output_type": "stream",
     "text": [
      "INFO:gurobipy:   9   1.55827857e+11  1.49162366e+11  3.50e+01 3.02e-05  4.59e+04     1s\n"
     ]
    },
    {
     "name": "stdout",
     "output_type": "stream",
     "text": [
      "  10   1.54017617e+11  1.50972835e+11  1.75e+01 3.02e-07  1.96e+04     1s\n"
     ]
    },
    {
     "name": "stderr",
     "output_type": "stream",
     "text": [
      "INFO:gurobipy:  10   1.54017617e+11  1.50972835e+11  1.75e+01 3.02e-07  1.96e+04     1s\n"
     ]
    },
    {
     "name": "stdout",
     "output_type": "stream",
     "text": [
      "  11   1.53158540e+11  1.51403158e+11  9.57e+00 4.38e-06  1.11e+04     1s\n"
     ]
    },
    {
     "name": "stderr",
     "output_type": "stream",
     "text": [
      "INFO:gurobipy:  11   1.53158540e+11  1.51403158e+11  9.57e+00 4.38e-06  1.11e+04     1s\n"
     ]
    },
    {
     "name": "stdout",
     "output_type": "stream",
     "text": [
      "  12   1.52831472e+11  1.51562712e+11  6.59e+00 5.28e-06  7.92e+03     1s\n"
     ]
    },
    {
     "name": "stderr",
     "output_type": "stream",
     "text": [
      "INFO:gurobipy:  12   1.52831472e+11  1.51562712e+11  6.59e+00 5.28e-06  7.92e+03     1s\n"
     ]
    },
    {
     "name": "stdout",
     "output_type": "stream",
     "text": [
      "  13   1.52605926e+11  1.51681072e+11  4.59e+00 5.42e-06  5.73e+03     1s\n"
     ]
    },
    {
     "name": "stderr",
     "output_type": "stream",
     "text": [
      "INFO:gurobipy:  13   1.52605926e+11  1.51681072e+11  4.59e+00 5.42e-06  5.73e+03     1s\n"
     ]
    },
    {
     "name": "stdout",
     "output_type": "stream",
     "text": [
      "\n"
     ]
    },
    {
     "name": "stderr",
     "output_type": "stream",
     "text": [
      "INFO:gurobipy:\n"
     ]
    },
    {
     "name": "stdout",
     "output_type": "stream",
     "text": [
      "Barrier performed 13 iterations in 0.73 seconds (0.68 work units)\n"
     ]
    },
    {
     "name": "stderr",
     "output_type": "stream",
     "text": [
      "INFO:gurobipy:Barrier performed 13 iterations in 0.73 seconds (0.68 work units)\n"
     ]
    },
    {
     "name": "stdout",
     "output_type": "stream",
     "text": [
      "Barrier solve interrupted - model solved by another algorithm\n"
     ]
    },
    {
     "name": "stderr",
     "output_type": "stream",
     "text": [
      "INFO:gurobipy:Barrier solve interrupted - model solved by another algorithm\n"
     ]
    },
    {
     "name": "stdout",
     "output_type": "stream",
     "text": [
      "\n"
     ]
    },
    {
     "name": "stderr",
     "output_type": "stream",
     "text": [
      "INFO:gurobipy:\n"
     ]
    },
    {
     "name": "stdout",
     "output_type": "stream",
     "text": [
      "\n"
     ]
    },
    {
     "name": "stderr",
     "output_type": "stream",
     "text": [
      "INFO:gurobipy:\n"
     ]
    },
    {
     "name": "stdout",
     "output_type": "stream",
     "text": [
      "Solved with dual simplex\n"
     ]
    },
    {
     "name": "stderr",
     "output_type": "stream",
     "text": [
      "INFO:gurobipy:Solved with dual simplex\n"
     ]
    },
    {
     "name": "stdout",
     "output_type": "stream",
     "text": [
      "Iteration    Objective       Primal Inf.    Dual Inf.      Time\n"
     ]
    },
    {
     "name": "stderr",
     "output_type": "stream",
     "text": [
      "INFO:gurobipy:Iteration    Objective       Primal Inf.    Dual Inf.      Time\n"
     ]
    },
    {
     "name": "stdout",
     "output_type": "stream",
     "text": [
      "   44421    1.5208623e+11   0.000000e+00   0.000000e+00      1s\n"
     ]
    },
    {
     "name": "stderr",
     "output_type": "stream",
     "text": [
      "INFO:gurobipy:   44421    1.5208623e+11   0.000000e+00   0.000000e+00      1s\n"
     ]
    },
    {
     "name": "stdout",
     "output_type": "stream",
     "text": [
      "\n"
     ]
    },
    {
     "name": "stderr",
     "output_type": "stream",
     "text": [
      "INFO:gurobipy:\n"
     ]
    },
    {
     "name": "stdout",
     "output_type": "stream",
     "text": [
      "Solved in 44421 iterations and 0.79 seconds (0.85 work units)\n"
     ]
    },
    {
     "name": "stderr",
     "output_type": "stream",
     "text": [
      "INFO:gurobipy:Solved in 44421 iterations and 0.79 seconds (0.85 work units)\n"
     ]
    },
    {
     "name": "stdout",
     "output_type": "stream",
     "text": [
      "Optimal objective  1.520862324e+11\n"
     ]
    },
    {
     "name": "stderr",
     "output_type": "stream",
     "text": [
      "INFO:gurobipy:Optimal objective  1.520862324e+11\n",
      "INFO:linopy.constants: Optimization successful: \n",
      "Status: ok\n",
      "Termination condition: optimal\n",
      "Solution: 78628 primals, 192196 duals\n",
      "Objective: 1.52e+11\n",
      "Solver model: available\n",
      "Solver message: 2\n",
      "\n",
      "INFO:pypsa.optimization.optimize:The shadow-prices of the constraints Generator-fix-p-lower, Generator-fix-p-upper, Generator-ext-p-lower, Generator-ext-p-upper, Generator-p_set, Link-fix-p-lower, Link-fix-p-upper, StorageUnit-ext-p_dispatch-lower, StorageUnit-ext-p_dispatch-upper, StorageUnit-ext-p_store-lower, StorageUnit-ext-p_store-upper, StorageUnit-ext-state_of_charge-lower, StorageUnit-ext-state_of_charge-upper, StorageUnit-energy_balance were not assigned to the network.\n"
     ]
    },
    {
     "name": "stdout",
     "output_type": "stream",
     "text": [
      "   Scenario  Battery Size (MW)  Battery Capacity (MWh)  \\\n",
      "0         1             79.998                 159.996   \n",
      "1         2             79.998                 159.996   \n",
      "2         3             79.998                 159.996   \n",
      "3         4             79.998                 159.996   \n",
      "4         5             79.998                 159.996   \n",
      "\n",
      "   Total Battery Dispatch (MWh)  Total Battery Store (MWh)  \\\n",
      "0                  99778.726349              101804.638658   \n",
      "1                  96653.100867               99619.264467   \n",
      "2                  81880.021381               96739.155697   \n",
      "3                  63543.714433               88993.682900   \n",
      "4                  63096.645925               89422.684135   \n",
      "\n",
      "   Round Trip Efficiency       NPV (£)    IRR (%)  LCOS (£/MWh)  \\\n",
      "0               0.980100  8.558491e+08  77.305581     40.545746   \n",
      "1               0.970225  5.680118e+08  67.350509     47.358876   \n",
      "2               0.846400  2.510644e+08  44.494923     72.855494   \n",
      "3               0.714025  5.942731e+07  22.900783    133.617797   \n",
      "4               0.705600 -1.214833e+07  -0.450915    233.782455   \n",
      "\n",
      "   Payback Period (years)  ...  Price Escalation Rate  Max Hours  \\\n",
      "0                     2.0  ...                    0.1          2   \n",
      "1                     2.0  ...                    0.1          2   \n",
      "2                     3.0  ...                    0.1          2   \n",
      "3                     5.0  ...                    0.1          2   \n",
      "4                     NaN  ...                    0.1          2   \n",
      "\n",
      "   CAPEX (£/MW)  OPEX (£/MW/year)  CFD Strike Price (£/MWh)  \\\n",
      "0     501048.00         22982.400                294.348000   \n",
      "1     541131.84         24504.984                277.398461   \n",
      "2     626310.00         28728.000                245.290000   \n",
      "3     711488.16         32951.016                213.181539   \n",
      "4     751572.00         34473.600                196.232000   \n",
      "\n",
      "   Market Price Factor  DCH Prices Factor  DCL Prices Factor  \\\n",
      "0               1.2000             1.2000             1.2000   \n",
      "1               1.1309             1.1309             1.1309   \n",
      "2               1.0000             1.0000             1.0000   \n",
      "3               0.8691             0.8691             0.8691   \n",
      "4               0.8000             0.8000             0.8000   \n",
      "\n",
      "   Total Battery Revenue (£)  Total Project Revenue (£)  \n",
      "0               2.881671e+07               8.698698e+07  \n",
      "1               2.679271e+07               8.161334e+07  \n",
      "2               1.987516e+07               6.835039e+07  \n",
      "3               1.359379e+07               5.572361e+07  \n",
      "4               1.246487e+07               5.124505e+07  \n",
      "\n",
      "[5 rows x 22 columns]\n",
      "Scenario analysis results saved to /Users/qusaialabbassi/Desktop/pythonprojects/Dissertation2/Two Buses Result/Sensitivity/Scenario_Analysis_Results.xlsx\n"
     ]
    }
   ],
   "source": [
    "# Load the input data\n",
    "wind_data = pd.read_excel('/Users/qusaialabbassi/Desktop/pythonprojects/Dissertation2/Wind Generation/Wind_Generation_Data_Input_2022.xlsx', parse_dates=['Timestamp'])\n",
    "market_prices_data = pd.read_excel('/Users/qusaialabbassi/Desktop/pythonprojects/Dissertation2/Electricity Price/Merged_Electricity_Prices_2022.xlsx', parse_dates=['Timestamp'])\n",
    "Dynamic_containment_high_prices_data = pd.read_excel('/Users/qusaialabbassi/Desktop/pythonprojects/Dissertation2/DC Price/DCH_Prices.xlsx', parse_dates=['Timestamp'])\n",
    "Dynamic_containment_low_prices_data = pd.read_excel('/Users/qusaialabbassi/Desktop/pythonprojects/Dissertation2/DC Price/DCL_Prices.xlsx', parse_dates=['Timestamp'])\n",
    "dch_volume_data = pd.read_excel('/Users/qusaialabbassi/Desktop/pythonprojects/Dissertation2/DC Price/DCH_volume_mw.xlsx', parse_dates=['Timestamp'])\n",
    "dcl_volume_data = pd.read_excel('/Users/qusaialabbassi/Desktop/pythonprojects/Dissertation2/DC Price/DCL_volume_mw.xlsx', parse_dates=['Timestamp'])\n",
    "\n",
    "# Set the 'Timestamp' column as the index\n",
    "wind_data.set_index('Timestamp', inplace=True)\n",
    "market_prices = market_prices_data.set_index('Timestamp')['Price (£/MWh)']\n",
    "dch_prices = Dynamic_containment_high_prices_data.set_index('Timestamp')['Price (£/MWh)']\n",
    "dcl_prices = Dynamic_containment_low_prices_data.set_index('Timestamp')['Price (£/MWh)']\n",
    "dch_volume = dch_volume_data.set_index('Timestamp')['Volume (MW)']\n",
    "dcl_volume = dcl_volume_data.set_index('Timestamp')['Volume (MW)']\n",
    "\n",
    "# Ensure all data is aligned to the same index\n",
    "market_prices = market_prices.reindex(wind_data.index, method='nearest')\n",
    "dch_prices = dch_prices.reindex(wind_data.index, method='nearest')\n",
    "dcl_prices = dcl_prices.reindex(wind_data.index, method='nearest')\n",
    "dch_volume = dch_volume.reindex(wind_data.index, method='nearest')\n",
    "dcl_volume = dcl_volume.reindex(wind_data.index, method='nearest')\n",
    "\n",
    "# Add a generator for the wind farm\n",
    "wind_generation_profile = wind_data['Wind Power Output (MW)']\n",
    "\n",
    "# Add a load for the grid demand\n",
    "demand_profile = wind_data['Load Demand (MW)']\n",
    "\n",
    "# Base values for parameters\n",
    "base_capex_per_mw = 626310\n",
    "base_opex_per_mw_per_year = 28728\n",
    "base_efficiency_store = 0.92\n",
    "base_efficiency_dispatch = 0.92\n",
    "base_battery_lifetime = 15\n",
    "base_discount_rate = 0.07\n",
    "base_price_escalation_rate = 0.10\n",
    "base_max_hours = 2\n",
    "base_cfd_strike_price = 245.29\n",
    "\n",
    "# Scenario definitions\n",
    "scenarios = [\n",
    "    {\n",
    "        'capex_per_mw': base_capex_per_mw * 0.8,\n",
    "        'opex_per_mw_per_year': base_opex_per_mw_per_year * 0.8,\n",
    "        'efficiency_store': 0.99,\n",
    "        'efficiency_dispatch': 0.99,\n",
    "        'battery_lifetime': 25,\n",
    "        'discount_rate': base_discount_rate,\n",
    "        'price_escalation_rate': base_price_escalation_rate,\n",
    "        'max_hours': base_max_hours,\n",
    "        'cfd_strike_price': base_cfd_strike_price * 1.2,\n",
    "        'market_price_factor': 1.2,\n",
    "        'dch_prices_factor': 1.2,\n",
    "        'dcl_prices_factor': 1.2\n",
    "    },\n",
    "    {\n",
    "        'capex_per_mw': base_capex_per_mw * 0.864,\n",
    "        'opex_per_mw_per_year': base_opex_per_mw_per_year * 0.853,\n",
    "        'efficiency_store': 0.985,\n",
    "        'efficiency_dispatch': 0.985,\n",
    "        'battery_lifetime': 20,\n",
    "        'discount_rate': base_discount_rate,\n",
    "        'price_escalation_rate': base_price_escalation_rate,\n",
    "        'max_hours': base_max_hours,\n",
    "        'cfd_strike_price': base_cfd_strike_price * 1.1309,\n",
    "        'market_price_factor': 1.1309,\n",
    "        'dch_prices_factor': 1.1309,\n",
    "        'dcl_prices_factor': 1.1309\n",
    "    },\n",
    "    {\n",
    "        'capex_per_mw': base_capex_per_mw,\n",
    "        'opex_per_mw_per_year': base_opex_per_mw_per_year,\n",
    "        'efficiency_store': base_efficiency_store,\n",
    "        'efficiency_dispatch': base_efficiency_dispatch,\n",
    "        'battery_lifetime': base_battery_lifetime,\n",
    "        'discount_rate': base_discount_rate,\n",
    "        'price_escalation_rate': base_price_escalation_rate,\n",
    "        'max_hours': base_max_hours,\n",
    "        'cfd_strike_price': base_cfd_strike_price,\n",
    "        'market_price_factor': 1.0,\n",
    "        'dch_prices_factor': 1.0,\n",
    "        'dcl_prices_factor': 1.0\n",
    "    },\n",
    "    {\n",
    "        'capex_per_mw': base_capex_per_mw * 1.136,\n",
    "        'opex_per_mw_per_year': base_opex_per_mw_per_year * 1.147,\n",
    "        'efficiency_store': 0.845,\n",
    "        'efficiency_dispatch': 0.845,\n",
    "        'battery_lifetime': 10,\n",
    "        'discount_rate': base_discount_rate,\n",
    "        'price_escalation_rate': base_price_escalation_rate,\n",
    "        'max_hours': base_max_hours,\n",
    "        'cfd_strike_price': base_cfd_strike_price * 0.8691,\n",
    "        'market_price_factor': 0.8691,\n",
    "        'dch_prices_factor': 0.8691,\n",
    "        'dcl_prices_factor': 0.8691\n",
    "    },\n",
    "    {\n",
    "        'capex_per_mw': base_capex_per_mw * 1.2,\n",
    "        'opex_per_mw_per_year': base_opex_per_mw_per_year * 1.2,\n",
    "        'efficiency_store': 0.84,\n",
    "        'efficiency_dispatch': 0.84,\n",
    "        'battery_lifetime': 5,\n",
    "        'discount_rate': base_discount_rate,\n",
    "        'price_escalation_rate': base_price_escalation_rate,\n",
    "        'max_hours': base_max_hours,\n",
    "        'cfd_strike_price': base_cfd_strike_price * 0.8,\n",
    "        'market_price_factor': 0.8,\n",
    "        'dch_prices_factor': 0.8,\n",
    "        'dcl_prices_factor': 0.8\n",
    "    }\n",
    "]\n",
    "\n",
    "results = []\n",
    "\n",
    "for i, scenario in enumerate(scenarios, 1):\n",
    "    print(f\"Running scenario {i}...\")\n",
    "\n",
    "    # Adjust prices based on the scenario factors\n",
    "    adjusted_market_prices = market_prices * scenario['market_price_factor']\n",
    "    adjusted_dch_prices = dch_prices * scenario['dch_prices_factor']\n",
    "    adjusted_dcl_prices = dcl_prices * scenario['dcl_prices_factor']\n",
    "\n",
    "    # Calculate round trip efficiency\n",
    "    round_trip_efficiency = scenario['efficiency_store'] * scenario['efficiency_dispatch']\n",
    "\n",
    "    # Initialize the network\n",
    "    network = pypsa.Network()\n",
    "\n",
    "    # Add time steps to the network\n",
    "    network.set_snapshots(wind_data.index)\n",
    "\n",
    "    # Add carriers\n",
    "    network.add(\"Carrier\", \"electricity\")\n",
    "\n",
    "    # Add buses\n",
    "    network.add(\"Bus\", \"wind_bus\", carrier=\"electricity\")\n",
    "    network.add(\"Bus\", \"grid_bus\", carrier=\"electricity\")\n",
    "\n",
    "    # Add components to the network\n",
    "    network.add(\"Generator\",\n",
    "                \"wind_turbine\",\n",
    "                bus=\"wind_bus\",\n",
    "                p_nom=84,  # Generator nominal power (MW)\n",
    "                p_set=wind_generation_profile.values,  # Set power output directly\n",
    "                marginal_cost=0,\n",
    "                capital_cost=0)\n",
    "\n",
    "    network.add(\"StorageUnit\",\n",
    "                \"battery\",\n",
    "                bus=\"wind_bus\",\n",
    "                p_nom_extendable=True,  # Make p_nom extendable\n",
    "                max_hours=scenario['max_hours'],  # Maximum storage time in hours\n",
    "                marginal_cost=0.01,  # Storage marginal cost\n",
    "                capital_cost=scenario['capex_per_mw'], # CAPEX from scenario\n",
    "                cyclic_state_of_charge=True,\n",
    "                state_of_charge_initial=0,\n",
    "                efficiency_store=scenario['efficiency_store'],\n",
    "                efficiency_dispatch=scenario['efficiency_dispatch'])\n",
    "\n",
    "    network.add(\"Load\",\n",
    "                \"grid_demand\",\n",
    "                bus=\"grid_bus\",\n",
    "                sign=-1,\n",
    "                p_set=demand_profile.values)\n",
    "\n",
    "    network.add(\"Generator\",\n",
    "                \"Backup Generator\",\n",
    "                bus=\"grid_bus\",\n",
    "                p_nom_extendable=True,\n",
    "                marginal_cost=adjusted_market_prices.values,\n",
    "                capital_cost=1500000)\n",
    "\n",
    "    network.add(\"Generator\",\n",
    "                \"DCH Service\",\n",
    "                bus=\"grid_bus\",\n",
    "                p_nom_extendable=True,  # Make p_nom extendable\n",
    "                marginal_cost=adjusted_dch_prices.values,\n",
    "                capital_cost=1700000)\n",
    "\n",
    "    network.add(\"Generator\",\n",
    "                \"DCL Service\",\n",
    "                bus=\"grid_bus\",\n",
    "                p_nom_extendable=True,  # Make p_nom extendable\n",
    "                marginal_cost=adjusted_dcl_prices.values,\n",
    "                capital_cost=1600000)\n",
    "\n",
    "    network.add(\"Link\",\n",
    "                \"wind_to_grid\",\n",
    "                bus0=\"wind_bus\",\n",
    "                bus1=\"grid_bus\",\n",
    "                efficiency=0.95,\n",
    "                p_nom=82)\n",
    "\n",
    "    network.add(\"Link\",\n",
    "                \"grid_to_wind\",\n",
    "                bus0=\"grid_bus\",\n",
    "                bus1=\"wind_bus\",\n",
    "                efficiency=0.95,\n",
    "                p_nom=82)\n",
    "\n",
    "    # Optimize the network\n",
    "    network.optimize(network.snapshots, solver_name='gurobi', keep_files=True)\n",
    "\n",
    "    # Extract optimization results\n",
    "    battery_size_mw = network.storage_units.loc[\"battery\", \"p_nom_opt\"]\n",
    "    battery_capacity_mwh = battery_size_mw * network.storage_units.loc[\"battery\", \"max_hours\"]\n",
    "\n",
    "    # Extract flows using p_dispatch and p_store\n",
    "    battery_dispatch = network.storage_units_t.p_dispatch[\"battery\"]\n",
    "    battery_store = network.storage_units_t.p_store[\"battery\"]\n",
    "    wind_generation = network.generators_t.p[\"wind_turbine\"]\n",
    "    backup_generation = network.generators_t.p[\"Backup Generator\"]\n",
    "    DCH_generation = network.generators_t.p[\"DCH Service\"]\n",
    "    DCL_generation = network.generators_t.p[\"DCL Service\"]\n",
    "    load_demand = network.loads_t.p[\"grid_demand\"]\n",
    "    soc = network.storage_units_t[\"state_of_charge\"][\"battery\"]\n",
    "    soc_percentage = soc / battery_capacity_mwh * 100\n",
    "\n",
    "    # Calculate total energy\n",
    "    total_battery_dispatch = battery_dispatch.sum()\n",
    "    total_battery_store = battery_store.sum()\n",
    "\n",
    "    # Calculate revenues\n",
    "    cfd_strike_price = scenario['cfd_strike_price']\n",
    "\n",
    "    # Calculate CFD Revenue (No Arbitrage Cost, as the wind and battery are on same bus)\n",
    "    data = pd.DataFrame({\n",
    "        'Timestamp': wind_data.index,\n",
    "        'Market Price (£/MWh)': adjusted_market_prices,\n",
    "        'DCH Price (£/MWh)': adjusted_dch_prices,\n",
    "        'DCL Price (£/MWh)': adjusted_dcl_prices,\n",
    "        'Battery Dispatch (MW)': battery_dispatch,\n",
    "        'Battery Store (MW)': battery_store,\n",
    "        'Wind Generation (MW)': wind_generation,\n",
    "        'Backup Generation (MW)': backup_generation,\n",
    "        'DCH Generation (MW)': DCH_generation,\n",
    "        'DCL Generation (MW)': DCL_generation,\n",
    "        'Load Demand (MW)': load_demand,\n",
    "        'State of Charge (MWh)': soc,\n",
    "        'State of Charge (%)': soc_percentage\n",
    "    })\n",
    "\n",
    "    data['CFD Revenue (£)'] = data['Wind Generation (MW)'] * cfd_strike_price\n",
    "    data['Arbitrage Revenue (£)'] = data['Battery Dispatch (MW)'] * data['Market Price (£/MWh)']\n",
    "    data['DCL Revenue (£)'] = data['Battery Dispatch (MW)'] * data['DCL Price (£/MWh)']\n",
    "    data['DCH Revenue (£)'] = data['Battery Store (MW)'] * data['DCH Price (£/MWh)']\n",
    "    data['Battery Revenue (£)'] = data['DCL Revenue (£)'] + data['DCH Revenue (£)'] + data['Arbitrage Revenue (£)']\n",
    "    data['Total Project Revenue (£)'] = data['CFD Revenue (£)'] + data['Battery Revenue (£)']\n",
    "\n",
    "    # Calculate financial metrics\n",
    "    annual_battery_revenue = data['Battery Revenue (£)'].sum()\n",
    "    discount_rate = scenario['discount_rate']\n",
    "    battery_lifetime = int(scenario['battery_lifetime'])  # Ensure battery_lifetime is an integer\n",
    "    capex_per_mw = scenario['capex_per_mw']\n",
    "    opex_per_mw_per_year = scenario['opex_per_mw_per_year']\n",
    "    price_escalation_rate = scenario['price_escalation_rate']\n",
    "\n",
    "    # Total CAPEX\n",
    "    total_capex = battery_size_mw * capex_per_mw\n",
    "\n",
    "    # Calculate annual battery revenues with escalation\n",
    "    annual_battery_revenues = [(annual_battery_revenue * (1 + price_escalation_rate) ** year) for year in range(battery_lifetime)]\n",
    "    annual_opex = [(opex_per_mw_per_year * battery_size_mw * (1 + price_escalation_rate) ** year) for year in range(battery_lifetime)]\n",
    "    annual_cash_flows = [revenue - opex for revenue, opex in zip(annual_battery_revenues, annual_opex)]\n",
    "    annual_cash_flows.insert(0, -total_capex)  # Initial investment in year 0\n",
    "\n",
    "    # NPV Calculation\n",
    "    npv = npf.npv(discount_rate, annual_cash_flows)\n",
    "\n",
    "    # IRR Calculation\n",
    "    irr = npf.irr(annual_cash_flows) * 100  # Convert to percentage\n",
    "\n",
    "    # Total discounted OPEX\n",
    "    total_opex = sum([opex / ((1 + discount_rate) ** year) for year, opex in enumerate(annual_opex, start=1)])\n",
    "\n",
    "    # Total discounted costs\n",
    "    total_discounted_costs = total_capex + total_opex\n",
    "\n",
    "    # Total energy dispatched over the lifetime (MWh)\n",
    "    total_energy_dispatched = total_battery_dispatch * battery_lifetime\n",
    "\n",
    "    # LCOS Calculation\n",
    "    lcos = total_discounted_costs / total_energy_dispatched\n",
    "\n",
    "    # Payback Period Calculation\n",
    "    cumulative_cash_flow = 0\n",
    "    payback_period = None\n",
    "    for year, cash_flow in enumerate(annual_cash_flows):\n",
    "        cumulative_cash_flow += cash_flow\n",
    "        if cumulative_cash_flow >= 0 and payback_period is None:\n",
    "            payback_period = year\n",
    "\n",
    "    # Store results\n",
    "    results.append({\n",
    "        'Scenario': i,\n",
    "        'Battery Size (MW)': battery_size_mw,\n",
    "        'Battery Capacity (MWh)': battery_capacity_mwh,\n",
    "        'Total Battery Dispatch (MWh)': total_battery_dispatch,\n",
    "        'Total Battery Store (MWh)': total_battery_store,\n",
    "        'Round Trip Efficiency': round_trip_efficiency,\n",
    "        'NPV (£)': npv,\n",
    "        'IRR (%)': irr,\n",
    "        'LCOS (£/MWh)': lcos,\n",
    "        'Payback Period (years)': payback_period,\n",
    "        'Battery Lifetime (years)': battery_lifetime,\n",
    "        'Discount Rate': discount_rate,\n",
    "        'Price Escalation Rate': price_escalation_rate,\n",
    "        'Max Hours': scenario['max_hours'],\n",
    "        'CAPEX (£/MW)': capex_per_mw,\n",
    "        'OPEX (£/MW/year)': opex_per_mw_per_year,\n",
    "        'CFD Strike Price (£/MWh)': cfd_strike_price,\n",
    "        'Market Price Factor': scenario['market_price_factor'],\n",
    "        'DCH Prices Factor': scenario['dch_prices_factor'],\n",
    "        'DCL Prices Factor': scenario['dcl_prices_factor'],\n",
    "        'Total Battery Revenue (£)': annual_battery_revenue,\n",
    "        'Total Project Revenue (£)': data['Total Project Revenue (£)'].sum()\n",
    "    })\n",
    "\n",
    "# Create a DataFrame from results\n",
    "results_df = pd.DataFrame(results)\n",
    "\n",
    "# Print results\n",
    "print(results_df)\n",
    "\n",
    "# Save results to an Excel file\n",
    "output_path = '/Users/qusaialabbassi/Desktop/pythonprojects/Dissertation2/Two Buses Result/Sensitivity/Scenario_Analysis_Results.xlsx'\n",
    "results_df.to_excel(output_path, index=False)\n",
    "print(f\"Scenario analysis results saved to {output_path}\")\n"
   ]
  },
  {
   "cell_type": "code",
   "execution_count": 4,
   "id": "9774280a-bd44-409d-b766-bfa91c0382be",
   "metadata": {
    "tags": []
   },
   "outputs": [
    {
     "data": {
      "image/png": "[encoded data removed]",
      "text/plain": [
       "<Figure size 1400x1500 with 6 Axes>"
      ]
     },
     "metadata": {},
     "output_type": "display_data"
    }
   ],
   "source": [
    "# Load the results from the Excel file\n",
    "results_df = pd.read_excel('/Users/qusaialabbassi/Desktop/pythonprojects/Dissertation2/Two Buses Result/Sensitivity/Scenario_Analysis_Results.xlsx')\n",
    "\n",
    "# Scenario labels\n",
    "scenario_labels = ['Scenario 1', 'Scenario 2', 'Scenario 3', 'Scenario 4', 'Scenario 5']\n",
    "\n",
    "# Plotting parameters\n",
    "font_size = 14\n",
    "line_width = 2\n",
    "line_colors = ['#1f77b4', '#ff7f0e', '#2ca02c', '#d62728', '#9467bd']  # Using professional colors from matplotlib\n",
    "\n",
    "# Formatter function for y-axis in millions without decimal points\n",
    "def millions(x, pos):\n",
    "    'The two args are the value and tick position'\n",
    "    return f'{int(x * 1e-6)}'\n",
    "\n",
    "# Plotting\n",
    "fig, axes = plt.subplots(3, 2, figsize=(14, 15))\n",
    "\n",
    "# NPV plot\n",
    "axes[0, 0].plot(results_df['Scenario'], results_df['NPV (£)'], marker='o', linestyle='-', linewidth=line_width, color=line_colors[0])\n",
    "axes[0, 0].set_title('NPV (£)', fontsize=font_size)\n",
    "axes[0, 0].set_ylabel('[Million £]', fontsize=font_size)\n",
    "axes[0, 0].set_yticks(range(0, 800000001, 100000000))\n",
    "axes[0, 0].set_xticks(results_df['Scenario'])\n",
    "axes[0, 0].set_xticklabels(scenario_labels, fontsize=font_size)\n",
    "axes[0, 0].tick_params(axis='y', labelsize=font_size)\n",
    "axes[0, 0].yaxis.set_major_formatter(FuncFormatter(millions))\n",
    "axes[0, 0].grid(True)\n",
    "\n",
    "# IRR plot\n",
    "axes[0, 1].plot(results_df['Scenario'], results_df['IRR (%)'], marker='o', linestyle='-', linewidth=line_width, color=line_colors[1])\n",
    "axes[0, 1].set_title('IRR (%)', fontsize=font_size)\n",
    "axes[0, 1].set_ylabel('[%]', fontsize=font_size)\n",
    "axes[0, 1].set_xticks(results_df['Scenario'])\n",
    "axes[0, 1].set_xticklabels(scenario_labels, fontsize=font_size)\n",
    "axes[0, 1].tick_params(axis='y', labelsize=font_size)\n",
    "axes[0, 1].grid(True)\n",
    "\n",
    "# LCOS plot\n",
    "axes[1, 0].plot(results_df['Scenario'], results_df['LCOS (£/MWh)'], marker='o', linestyle='-', linewidth=line_width, color=line_colors[2])\n",
    "axes[1, 0].set_title('LCOS (£/MWh)', fontsize=font_size)\n",
    "axes[1, 0].set_ylabel('[£/MWh]', fontsize=font_size)\n",
    "axes[1, 0].set_xticks(results_df['Scenario'])\n",
    "axes[1, 0].set_xticklabels(scenario_labels, fontsize=font_size)\n",
    "axes[1, 0].tick_params(axis='y', labelsize=font_size)\n",
    "axes[1, 0].grid(True)\n",
    "\n",
    "# Battery Revenue plot\n",
    "axes[1, 1].plot(results_df['Scenario'], results_df['Total Battery Revenue (£)'], marker='o', linestyle='-', linewidth=line_width, color=line_colors[3])\n",
    "axes[1, 1].set_title('Annual Battery Revenue (£)', fontsize=font_size)\n",
    "axes[1, 1].set_ylabel('[Million £]', fontsize=font_size)\n",
    "axes[1, 1].set_xticks(results_df['Scenario'])\n",
    "axes[1, 1].set_xticklabels(scenario_labels, fontsize=font_size)\n",
    "axes[1, 1].tick_params(axis='y', labelsize=font_size)\n",
    "axes[1, 1].yaxis.set_major_formatter(FuncFormatter(millions))\n",
    "axes[1, 1].grid(True)\n",
    "\n",
    "# Battery Size plot (middle of the third row)\n",
    "axes[2, 0].plot(results_df['Scenario'], results_df['Battery Size (MW)'], marker='o', linestyle='-', linewidth=line_width, color=line_colors[4])\n",
    "axes[2, 0].set_title('Battery Size (MW)', fontsize=font_size)\n",
    "axes[2, 0].set_ylabel('[MW]', fontsize=font_size)\n",
    "axes[2, 0].set_xticks(results_df['Scenario'])\n",
    "axes[2, 0].set_xticklabels(scenario_labels, fontsize=font_size)\n",
    "axes[2, 0].tick_params(axis='y', labelsize=font_size)\n",
    "axes[2, 0].grid(True)\n",
    "\n",
    "# Remove the empty subplot (bottom-right) and add text there\n",
    "axes[2, 1].axis('off')\n",
    "axes[2, 1].text(0.5, 0.5, 'Best Case Scenario: Scenario 1 and Scenario 2\\n\\nCurrent Scenario: Scenario 3\\n\\nWorst Case Scenario: Scenario 4 and Scenario 5',\n",
    "               ha='center', va='center', fontsize=font_size)\n",
    "\n",
    "# Adjust layout\n",
    "plt.tight_layout()\n",
    "\n",
    "# Save plot in high quality\n",
    "fig.savefig('/Users/qusaialabbassi/Desktop/pythonprojects/Dissertation2/Two Buses Result/Sensitivity/Scenario_Analysis_Results.png', dpi=300)\n",
    "\n",
    "# Show plot\n",
    "plt.show()\n"
   ]
  }
 ],
 "metadata": {
  "kernelspec": {
   "display_name": "Python 3 (ipykernel)",
   "language": "python",
   "name": "python3"
  },
  "language_info": {
   "codemirror_mode": {
    "name": "ipython",
    "version": 3
   },
   "file_extension": ".py",
   "mimetype": "text/x-python",
   "name": "python",
   "nbconvert_exporter": "python",
   "pygments_lexer": "ipython3",
   "version": "3.11.8"
  }
 },
 "nbformat": 4,
 "nbformat_minor": 5
}
